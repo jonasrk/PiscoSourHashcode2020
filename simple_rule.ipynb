{
 "cells": [
  {
   "cell_type": "code",
   "execution_count": 30,
   "metadata": {},
   "outputs": [
    {
     "name": "stdout",
     "output_type": "stream",
     "text": [
      "The nb_black extension is already loaded. To reload it, use:\n",
      "  %reload_ext nb_black\n"
     ]
    },
    {
     "data": {
      "application/javascript": [
       "\n",
       "            setTimeout(function() {\n",
       "                var nbb_cell_id = 30;\n",
       "                var nbb_unformatted_code = \"# from read_and_write_functions import *\\nimport numpy as np\\nfrom tqdm import tqdm\\n\\n%load_ext nb_black\";\n",
       "                var nbb_formatted_code = \"# from read_and_write_functions import *\\nimport numpy as np\\nfrom tqdm import tqdm\\n\\n%load_ext nb_black\";\n",
       "                var nbb_cells = Jupyter.notebook.get_cells();\n",
       "                for (var i = 0; i < nbb_cells.length; ++i) {\n",
       "                    if (nbb_cells[i].input_prompt_number == nbb_cell_id) {\n",
       "                        if (nbb_cells[i].get_text() == nbb_unformatted_code) {\n",
       "                             nbb_cells[i].set_text(nbb_formatted_code);\n",
       "                        }\n",
       "                        break;\n",
       "                    }\n",
       "                }\n",
       "            }, 500);\n",
       "            "
      ],
      "text/plain": [
       "<IPython.core.display.Javascript object>"
      ]
     },
     "metadata": {},
     "output_type": "display_data"
    }
   ],
   "source": [
    "# from read_and_write_functions import *\n",
    "import numpy as np\n",
    "from tqdm import tqdm\n",
    "\n",
    "%load_ext nb_black"
   ]
  },
  {
   "cell_type": "code",
   "execution_count": 31,
   "metadata": {},
   "outputs": [
    {
     "data": {
      "application/javascript": [
       "\n",
       "            setTimeout(function() {\n",
       "                var nbb_cell_id = 31;\n",
       "                var nbb_unformatted_code = \"def read_input_file(file_name):\\n    print(file_name)\\n    with open(file_name, \\\"r\\\") as fin:\\n        line = fin.readline()\\n        n_books, n_libs, n_days = [int(num) for num in line.split()]\\n        line = fin.readline()\\n        scores = [int(num) for num in line.split()]\\n        libs = []\\n        for i in range(n_libs):\\n            line = fin.readline()\\n            li_nbooks, lui_signup, li_max = [int(num) for num in line.split()]\\n            line = fin.readline()\\n            li_books = [int(num) for num in line.split()]\\n            def bookscore(bi):\\n                return scores[bi]\\n            li_books = sorted(li_books, reverse=True, key=bookscore)\\n            li_scores_of_books = []\\n            li_bookscore = 0\\n            for bi in li_books:\\n                li_bookscore += scores[bi]\\n                li_scores_of_books.append(scores[bi])\\n            li_bookscore = li_bookscore / li_nbooks\\n            norm_signup = -1\\n            norm_limax= -1\\n            norm_bookscore = -1\\n            libs.append([li_nbooks, lui_signup, li_max, li_books, i, li_bookscore, li_scores_of_books, norm_signup, norm_limax, norm_bookscore])\\n    return n_books, n_libs, n_days, scores, libs\\n\\ndef write_file(output_file, sln):\\n    with open(output_file, \\\"w\\\") as fout:\\n        fout.write(sln)\\n    print(\\\"file: \\\" + output_file + \\\" was saved\\\")\";\n",
       "                var nbb_formatted_code = \"def read_input_file(file_name):\\n    print(file_name)\\n    with open(file_name, \\\"r\\\") as fin:\\n        line = fin.readline()\\n        n_books, n_libs, n_days = [int(num) for num in line.split()]\\n        line = fin.readline()\\n        scores = [int(num) for num in line.split()]\\n        libs = []\\n        for i in range(n_libs):\\n            line = fin.readline()\\n            li_nbooks, lui_signup, li_max = [int(num) for num in line.split()]\\n            line = fin.readline()\\n            li_books = [int(num) for num in line.split()]\\n\\n            def bookscore(bi):\\n                return scores[bi]\\n\\n            li_books = sorted(li_books, reverse=True, key=bookscore)\\n            li_scores_of_books = []\\n            li_bookscore = 0\\n            for bi in li_books:\\n                li_bookscore += scores[bi]\\n                li_scores_of_books.append(scores[bi])\\n            li_bookscore = li_bookscore / li_nbooks\\n            norm_signup = -1\\n            norm_limax = -1\\n            norm_bookscore = -1\\n            libs.append(\\n                [\\n                    li_nbooks,\\n                    lui_signup,\\n                    li_max,\\n                    li_books,\\n                    i,\\n                    li_bookscore,\\n                    li_scores_of_books,\\n                    norm_signup,\\n                    norm_limax,\\n                    norm_bookscore,\\n                ]\\n            )\\n    return n_books, n_libs, n_days, scores, libs\\n\\n\\ndef write_file(output_file, sln):\\n    with open(output_file, \\\"w\\\") as fout:\\n        fout.write(sln)\\n    print(\\\"file: \\\" + output_file + \\\" was saved\\\")\";\n",
       "                var nbb_cells = Jupyter.notebook.get_cells();\n",
       "                for (var i = 0; i < nbb_cells.length; ++i) {\n",
       "                    if (nbb_cells[i].input_prompt_number == nbb_cell_id) {\n",
       "                        if (nbb_cells[i].get_text() == nbb_unformatted_code) {\n",
       "                             nbb_cells[i].set_text(nbb_formatted_code);\n",
       "                        }\n",
       "                        break;\n",
       "                    }\n",
       "                }\n",
       "            }, 500);\n",
       "            "
      ],
      "text/plain": [
       "<IPython.core.display.Javascript object>"
      ]
     },
     "metadata": {},
     "output_type": "display_data"
    }
   ],
   "source": [
    "def read_input_file(file_name):\n",
    "    print(file_name)\n",
    "    with open(file_name, \"r\") as fin:\n",
    "        line = fin.readline()\n",
    "        n_books, n_libs, n_days = [int(num) for num in line.split()]\n",
    "        line = fin.readline()\n",
    "        scores = [int(num) for num in line.split()]\n",
    "        libs = []\n",
    "        for i in range(n_libs):\n",
    "            line = fin.readline()\n",
    "            li_nbooks, lui_signup, li_max = [int(num) for num in line.split()]\n",
    "            line = fin.readline()\n",
    "            li_books = [int(num) for num in line.split()]\n",
    "            def bookscore(bi):\n",
    "                return scores[bi]\n",
    "            li_books = sorted(li_books, reverse=True, key=bookscore)\n",
    "            li_scores_of_books = []\n",
    "            li_bookscore = 0\n",
    "            for bi in li_books:\n",
    "                li_bookscore += scores[bi]\n",
    "                li_scores_of_books.append(scores[bi])\n",
    "            li_bookscore = li_bookscore / li_nbooks\n",
    "            norm_signup = -1\n",
    "            norm_limax= -1\n",
    "            norm_bookscore = -1\n",
    "            libs.append([li_nbooks, lui_signup, li_max, li_books, i, li_bookscore, li_scores_of_books, norm_signup, norm_limax, norm_bookscore])\n",
    "    return n_books, n_libs, n_days, scores, libs\n",
    "\n",
    "def write_file(output_file, sln):\n",
    "    with open(output_file, \"w\") as fout:\n",
    "        fout.write(sln)\n",
    "    print(\"file: \" + output_file + \" was saved\")\n"
   ]
  },
  {
   "cell_type": "code",
   "execution_count": 33,
   "metadata": {},
   "outputs": [
    {
     "name": "stdout",
     "output_type": "stream",
     "text": [
      "./input_files/f_libraries_of_the_world.txt\n"
     ]
    },
    {
     "data": {
      "application/javascript": [
       "\n",
       "            setTimeout(function() {\n",
       "                var nbb_cell_id = 33;\n",
       "                var nbb_unformatted_code = \"# Read the input file\\ninput_path = \\\"./input_files/\\\"\\noutput_path = \\\"./output_files/\\\"\\n# file_name = \\\"a_example.txt\\\"\\n# file_name = \\\"b_read_on.txt\\\"\\n# file_name = \\\"c_incunabula.txt\\\"\\n# file_name = \\\"d_tough_choices.txt\\\"\\nfile_name = \\\"e_so_many_books.txt\\\"\\nfile_name = \\\"f_libraries_of_the_world.txt\\\"\\nglobal n_days, scores\\nn_books, n_libs, n_days, scores, libs = read_input_file(input_path + file_name)\";\n",
       "                var nbb_formatted_code = \"# Read the input file\\ninput_path = \\\"./input_files/\\\"\\noutput_path = \\\"./output_files/\\\"\\n# file_name = \\\"a_example.txt\\\"\\n# file_name = \\\"b_read_on.txt\\\"\\n# file_name = \\\"c_incunabula.txt\\\"\\n# file_name = \\\"d_tough_choices.txt\\\"\\nfile_name = \\\"e_so_many_books.txt\\\"\\nfile_name = \\\"f_libraries_of_the_world.txt\\\"\\nglobal n_days, scores\\nn_books, n_libs, n_days, scores, libs = read_input_file(input_path + file_name)\";\n",
       "                var nbb_cells = Jupyter.notebook.get_cells();\n",
       "                for (var i = 0; i < nbb_cells.length; ++i) {\n",
       "                    if (nbb_cells[i].input_prompt_number == nbb_cell_id) {\n",
       "                        if (nbb_cells[i].get_text() == nbb_unformatted_code) {\n",
       "                             nbb_cells[i].set_text(nbb_formatted_code);\n",
       "                        }\n",
       "                        break;\n",
       "                    }\n",
       "                }\n",
       "            }, 500);\n",
       "            "
      ],
      "text/plain": [
       "<IPython.core.display.Javascript object>"
      ]
     },
     "metadata": {},
     "output_type": "display_data"
    }
   ],
   "source": [
    "# Read the input file\n",
    "input_path = \"./input_files/\"\n",
    "output_path = \"./output_files/\"\n",
    "# file_name = \"a_example.txt\"\n",
    "# file_name = \"b_read_on.txt\"\n",
    "# file_name = \"c_incunabula.txt\"\n",
    "# file_name = \"d_tough_choices.txt\"\n",
    "file_name = \"e_so_many_books.txt\"\n",
    "file_name = \"f_libraries_of_the_world.txt\"\n",
    "global n_days, scores\n",
    "n_books, n_libs, n_days, scores, libs = read_input_file(input_path + file_name)\n"
   ]
  },
  {
   "cell_type": "code",
   "execution_count": 34,
   "metadata": {},
   "outputs": [
    {
     "data": {
      "application/javascript": [
       "\n",
       "            setTimeout(function() {\n",
       "                var nbb_cell_id = 34;\n",
       "                var nbb_unformatted_code = \"average_signup = 0\\naverage_limax = 0\\naverage_bscore = 0\\nfor l in libs:\\n    average_signup += l[1]\\n    average_limax += l[2]\\n    average_bscore += l[5]\\naverage_signup = average_signup / n_libs\\naverage_limax = average_limax / n_libs\\naverage_bscore = average_bscore / n_libs\\nfor l in libs:\\n    l[7] = l[1]/average_signup\\n    l[8] = l[2]/average_limax\\n    l[9] = l[5]/average_bscore\";\n",
       "                var nbb_formatted_code = \"average_signup = 0\\naverage_limax = 0\\naverage_bscore = 0\\nfor l in libs:\\n    average_signup += l[1]\\n    average_limax += l[2]\\n    average_bscore += l[5]\\naverage_signup = average_signup / n_libs\\naverage_limax = average_limax / n_libs\\naverage_bscore = average_bscore / n_libs\\nfor l in libs:\\n    l[7] = l[1] / average_signup\\n    l[8] = l[2] / average_limax\\n    l[9] = l[5] / average_bscore\";\n",
       "                var nbb_cells = Jupyter.notebook.get_cells();\n",
       "                for (var i = 0; i < nbb_cells.length; ++i) {\n",
       "                    if (nbb_cells[i].input_prompt_number == nbb_cell_id) {\n",
       "                        if (nbb_cells[i].get_text() == nbb_unformatted_code) {\n",
       "                             nbb_cells[i].set_text(nbb_formatted_code);\n",
       "                        }\n",
       "                        break;\n",
       "                    }\n",
       "                }\n",
       "            }, 500);\n",
       "            "
      ],
      "text/plain": [
       "<IPython.core.display.Javascript object>"
      ]
     },
     "metadata": {},
     "output_type": "display_data"
    }
   ],
   "source": [
    "average_signup = 0\n",
    "average_limax = 0\n",
    "average_bscore = 0\n",
    "for l in libs:\n",
    "    average_signup += l[1]\n",
    "    average_limax += l[2]\n",
    "    average_bscore += l[5]\n",
    "average_signup = average_signup / n_libs\n",
    "average_limax = average_limax / n_libs\n",
    "average_bscore = average_bscore / n_libs\n",
    "for l in libs:\n",
    "    l[7] = l[1]/average_signup\n",
    "    l[8] = l[2]/average_limax\n",
    "    l[9] = l[5]/average_bscore\n"
   ]
  },
  {
   "cell_type": "code",
   "execution_count": 35,
   "metadata": {},
   "outputs": [
    {
     "data": {
      "text/plain": [
       "0.6919707326465774"
      ]
     },
     "execution_count": 35,
     "metadata": {},
     "output_type": "execute_result"
    },
    {
     "data": {
      "application/javascript": [
       "\n",
       "            setTimeout(function() {\n",
       "                var nbb_cell_id = 35;\n",
       "                var nbb_unformatted_code = \"libs[0][7]\";\n",
       "                var nbb_formatted_code = \"libs[0][7]\";\n",
       "                var nbb_cells = Jupyter.notebook.get_cells();\n",
       "                for (var i = 0; i < nbb_cells.length; ++i) {\n",
       "                    if (nbb_cells[i].input_prompt_number == nbb_cell_id) {\n",
       "                        if (nbb_cells[i].get_text() == nbb_unformatted_code) {\n",
       "                             nbb_cells[i].set_text(nbb_formatted_code);\n",
       "                        }\n",
       "                        break;\n",
       "                    }\n",
       "                }\n",
       "            }, 500);\n",
       "            "
      ],
      "text/plain": [
       "<IPython.core.display.Javascript object>"
      ]
     },
     "metadata": {},
     "output_type": "display_data"
    }
   ],
   "source": [
    "libs[0][7]"
   ]
  },
  {
   "cell_type": "code",
   "execution_count": 36,
   "metadata": {},
   "outputs": [
    {
     "data": {
      "application/javascript": [
       "\n",
       "            setTimeout(function() {\n",
       "                var nbb_cell_id = 36;\n",
       "                var nbb_unformatted_code = \"def lib_quality_score(lib):\\n    return 0.5 * (3 - lib[7]) + 0.25 * lib[8] + 0.25 * lib[9]\\n\\n\\nsorted_libs = sorted(libs, reverse=True, key=lib_quality_score)\";\n",
       "                var nbb_formatted_code = \"def lib_quality_score(lib):\\n    return 0.5 * (3 - lib[7]) + 0.25 * lib[8] + 0.25 * lib[9]\\n\\n\\nsorted_libs = sorted(libs, reverse=True, key=lib_quality_score)\";\n",
       "                var nbb_cells = Jupyter.notebook.get_cells();\n",
       "                for (var i = 0; i < nbb_cells.length; ++i) {\n",
       "                    if (nbb_cells[i].input_prompt_number == nbb_cell_id) {\n",
       "                        if (nbb_cells[i].get_text() == nbb_unformatted_code) {\n",
       "                             nbb_cells[i].set_text(nbb_formatted_code);\n",
       "                        }\n",
       "                        break;\n",
       "                    }\n",
       "                }\n",
       "            }, 500);\n",
       "            "
      ],
      "text/plain": [
       "<IPython.core.display.Javascript object>"
      ]
     },
     "metadata": {},
     "output_type": "display_data"
    }
   ],
   "source": [
    "def lib_quality_score(lib):\n",
    "    return 0.5 * (3 - lib[7]) + 0.25 * lib[8] + 0.25 * lib[9]\n",
    "\n",
    "\n",
    "sorted_libs = sorted(libs, reverse=True, key=lib_quality_score)"
   ]
  },
  {
   "cell_type": "code",
   "execution_count": 37,
   "metadata": {},
   "outputs": [
    {
     "data": {
      "application/javascript": [
       "\n",
       "            setTimeout(function() {\n",
       "                var nbb_cell_id = 37;\n",
       "                var nbb_unformatted_code = \"solution = [-1]\\nfor l in sorted_libs:\\n    solution.append([l[4], len(l[3])])\\n    solution.append(l[3])\\nsolution[0] = n_libs\";\n",
       "                var nbb_formatted_code = \"solution = [-1]\\nfor l in sorted_libs:\\n    solution.append([l[4], len(l[3])])\\n    solution.append(l[3])\\nsolution[0] = n_libs\";\n",
       "                var nbb_cells = Jupyter.notebook.get_cells();\n",
       "                for (var i = 0; i < nbb_cells.length; ++i) {\n",
       "                    if (nbb_cells[i].input_prompt_number == nbb_cell_id) {\n",
       "                        if (nbb_cells[i].get_text() == nbb_unformatted_code) {\n",
       "                             nbb_cells[i].set_text(nbb_formatted_code);\n",
       "                        }\n",
       "                        break;\n",
       "                    }\n",
       "                }\n",
       "            }, 500);\n",
       "            "
      ],
      "text/plain": [
       "<IPython.core.display.Javascript object>"
      ]
     },
     "metadata": {},
     "output_type": "display_data"
    }
   ],
   "source": [
    "solution = [-1]\n",
    "for l in sorted_libs:\n",
    "    solution.append([l[4], len(l[3])])\n",
    "    solution.append(l[3])\n",
    "solution[0] = n_libs\n"
   ]
  },
  {
   "cell_type": "code",
   "execution_count": 38,
   "metadata": {},
   "outputs": [
    {
     "data": {
      "application/javascript": [
       "\n",
       "            setTimeout(function() {\n",
       "                var nbb_cell_id = 38;\n",
       "                var nbb_unformatted_code = \"def generate_output(solution):\\n    output_str = str(solution[0]) + \\\"\\\\n\\\"\\n    for line in solution[1:]:\\n        for element in line:\\n            output_str += str(element) + \\\" \\\"\\n        output_str += \\\"\\\\n\\\"\\n    return output_str[:-1]\";\n",
       "                var nbb_formatted_code = \"def generate_output(solution):\\n    output_str = str(solution[0]) + \\\"\\\\n\\\"\\n    for line in solution[1:]:\\n        for element in line:\\n            output_str += str(element) + \\\" \\\"\\n        output_str += \\\"\\\\n\\\"\\n    return output_str[:-1]\";\n",
       "                var nbb_cells = Jupyter.notebook.get_cells();\n",
       "                for (var i = 0; i < nbb_cells.length; ++i) {\n",
       "                    if (nbb_cells[i].input_prompt_number == nbb_cell_id) {\n",
       "                        if (nbb_cells[i].get_text() == nbb_unformatted_code) {\n",
       "                             nbb_cells[i].set_text(nbb_formatted_code);\n",
       "                        }\n",
       "                        break;\n",
       "                    }\n",
       "                }\n",
       "            }, 500);\n",
       "            "
      ],
      "text/plain": [
       "<IPython.core.display.Javascript object>"
      ]
     },
     "metadata": {},
     "output_type": "display_data"
    }
   ],
   "source": [
    "def generate_output(solution):\n",
    "    output_str = str(solution[0]) + \"\\n\"\n",
    "    for line in solution[1:]:\n",
    "        for element in line:\n",
    "            output_str += str(element) + \" \"\n",
    "        output_str += \"\\n\"\n",
    "    return output_str[:-1]"
   ]
  },
  {
   "cell_type": "code",
   "execution_count": 39,
   "metadata": {},
   "outputs": [
    {
     "name": "stdout",
     "output_type": "stream",
     "text": [
      "file: ./output_files/_bf_f_libraries_of_the_world.txt was saved\n"
     ]
    },
    {
     "data": {
      "application/javascript": [
       "\n",
       "            setTimeout(function() {\n",
       "                var nbb_cell_id = 39;\n",
       "                var nbb_unformatted_code = \"sln_str = generate_output(solution)\\noutput_file = output_path + \\\"_bf_\\\" + file_name\\nwrite_file(output_file, sln_str)\";\n",
       "                var nbb_formatted_code = \"sln_str = generate_output(solution)\\noutput_file = output_path + \\\"_bf_\\\" + file_name\\nwrite_file(output_file, sln_str)\";\n",
       "                var nbb_cells = Jupyter.notebook.get_cells();\n",
       "                for (var i = 0; i < nbb_cells.length; ++i) {\n",
       "                    if (nbb_cells[i].input_prompt_number == nbb_cell_id) {\n",
       "                        if (nbb_cells[i].get_text() == nbb_unformatted_code) {\n",
       "                             nbb_cells[i].set_text(nbb_formatted_code);\n",
       "                        }\n",
       "                        break;\n",
       "                    }\n",
       "                }\n",
       "            }, 500);\n",
       "            "
      ],
      "text/plain": [
       "<IPython.core.display.Javascript object>"
      ]
     },
     "metadata": {},
     "output_type": "display_data"
    }
   ],
   "source": [
    "sln_str = generate_output(solution)\n",
    "output_file = output_path + \"_bf_\" + file_name\n",
    "write_file(output_file, sln_str)"
   ]
  },
  {
   "cell_type": "code",
   "execution_count": null,
   "metadata": {},
   "outputs": [],
   "source": []
  },
  {
   "cell_type": "code",
   "execution_count": null,
   "metadata": {},
   "outputs": [],
   "source": []
  },
  {
   "cell_type": "code",
   "execution_count": null,
   "metadata": {},
   "outputs": [],
   "source": []
  }
 ],
 "metadata": {
  "kernelspec": {
   "display_name": "Python 3",
   "language": "python",
   "name": "python3"
  },
  "language_info": {
   "codemirror_mode": {
    "name": "ipython",
    "version": 3
   },
   "file_extension": ".py",
   "mimetype": "text/x-python",
   "name": "python",
   "nbconvert_exporter": "python",
   "pygments_lexer": "ipython3",
   "version": "3.7.4"
  }
 },
 "nbformat": 4,
 "nbformat_minor": 2
}
