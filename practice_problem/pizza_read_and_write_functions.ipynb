{
 "cells": [
  {
   "cell_type": "markdown",
   "metadata": {},
   "source": [
    "# HashCode 2020: PIZZA\n",
    "#### PiscoSour"
   ]
  },
  {
   "cell_type": "code",
   "execution_count": 1,
   "metadata": {},
   "outputs": [
    {
     "data": {
      "application/javascript": [
       "\n",
       "            setTimeout(function() {\n",
       "                var nbb_cell_id = 1;\n",
       "                var nbb_unformatted_code = \"%matplotlib inline\\nimport sys\\nimport numpy as np\\nimport pandas as pd\\nimport matplotlib.pyplot as plt\\nimport copy\\nfrom random import shuffle\\n\\n%load_ext nb_black\";\n",
       "                var nbb_formatted_code = \"%matplotlib inline\\nimport sys\\nimport numpy as np\\nimport pandas as pd\\nimport matplotlib.pyplot as plt\\nimport copy\\nfrom random import shuffle\\n\\n%load_ext nb_black\";\n",
       "                var nbb_cells = Jupyter.notebook.get_cells();\n",
       "                for (var i = 0; i < nbb_cells.length; ++i) {\n",
       "                    if (nbb_cells[i].input_prompt_number == nbb_cell_id) {\n",
       "                        if (nbb_cells[i].get_text() == nbb_unformatted_code) {\n",
       "                             nbb_cells[i].set_text(nbb_formatted_code);\n",
       "                        }\n",
       "                        break;\n",
       "                    }\n",
       "                }\n",
       "            }, 500);\n",
       "            "
      ],
      "text/plain": [
       "<IPython.core.display.Javascript object>"
      ]
     },
     "metadata": {},
     "output_type": "display_data"
    }
   ],
   "source": [
    "%matplotlib inline\n",
    "import sys\n",
    "import numpy as np\n",
    "import pandas as pd\n",
    "import matplotlib.pyplot as plt\n",
    "import copy\n",
    "from random import shuffle\n",
    "\n",
    "%load_ext nb_black"
   ]
  },
  {
   "cell_type": "markdown",
   "metadata": {},
   "source": [
    "## Pizza functions"
   ]
  },
  {
   "cell_type": "code",
   "execution_count": 2,
   "metadata": {},
   "outputs": [
    {
     "data": {
      "application/javascript": [
       "\n",
       "            setTimeout(function() {\n",
       "                var nbb_cell_id = 2;\n",
       "                var nbb_unformatted_code = \"def read_input_file(file_name):\\n    \\\"\\\"\\\"\\n    Reads the input file and returns m, n and sizes\\n    \\\"\\\"\\\"\\n    with open(file_name, \\\"r\\\") as fin:\\n        line = fin.readline()\\n        m, n = [int(num) for num in line.split()]\\n        line = fin.readline().split()\\n        sizes = np.empty(n)\\n        for i in range(n):\\n            sizes[i] = int(line[i])\\n    return [m, n, sizes]\\n\\n\\ndef write_file(output_file, pizzas_to_order):\\n    \\\"\\\"\\\"\\n    write the output file for the passed pizza\\n    \\\"\\\"\\\"\\n    with open(output_file, \\\"w\\\") as fout:\\n        # number of pizzas\\n        fout.write(\\\"%d\\\\n\\\" % len(pizzas_to_order))\\n        for s in pizzas_to_order:\\n            fout.write(str(s) + \\\" \\\")\\n    print(\\\"file: \\\" + output_file + \\\" was saved\\\")\";\n",
       "                var nbb_formatted_code = \"def read_input_file(file_name):\\n    \\\"\\\"\\\"\\n    Reads the input file and returns m, n and sizes\\n    \\\"\\\"\\\"\\n    with open(file_name, \\\"r\\\") as fin:\\n        line = fin.readline()\\n        m, n = [int(num) for num in line.split()]\\n        line = fin.readline().split()\\n        sizes = np.empty(n)\\n        for i in range(n):\\n            sizes[i] = int(line[i])\\n    return [m, n, sizes]\\n\\n\\ndef write_file(output_file, pizzas_to_order):\\n    \\\"\\\"\\\"\\n    write the output file for the passed pizza\\n    \\\"\\\"\\\"\\n    with open(output_file, \\\"w\\\") as fout:\\n        # number of pizzas\\n        fout.write(\\\"%d\\\\n\\\" % len(pizzas_to_order))\\n        for s in pizzas_to_order:\\n            fout.write(str(s) + \\\" \\\")\\n    print(\\\"file: \\\" + output_file + \\\" was saved\\\")\";\n",
       "                var nbb_cells = Jupyter.notebook.get_cells();\n",
       "                for (var i = 0; i < nbb_cells.length; ++i) {\n",
       "                    if (nbb_cells[i].input_prompt_number == nbb_cell_id) {\n",
       "                        if (nbb_cells[i].get_text() == nbb_unformatted_code) {\n",
       "                             nbb_cells[i].set_text(nbb_formatted_code);\n",
       "                        }\n",
       "                        break;\n",
       "                    }\n",
       "                }\n",
       "            }, 500);\n",
       "            "
      ],
      "text/plain": [
       "<IPython.core.display.Javascript object>"
      ]
     },
     "metadata": {},
     "output_type": "display_data"
    }
   ],
   "source": [
    "def read_input_file(file_name):\n",
    "    \"\"\"\n",
    "    Reads the input file and returns m, n and sizes\n",
    "    \"\"\"\n",
    "    with open(file_name, \"r\") as fin:\n",
    "        line = fin.readline()\n",
    "        m, n = [int(num) for num in line.split()]\n",
    "        line = fin.readline().split()\n",
    "        sizes = np.empty(n)\n",
    "        for i in range(n):\n",
    "            sizes[i] = int(line[i])\n",
    "    return [m, n, sizes]\n",
    "\n",
    "\n",
    "def write_file(output_file, pizzas_to_order):\n",
    "    \"\"\"\n",
    "    write the output file for the passed pizza\n",
    "    \"\"\"\n",
    "    with open(output_file, \"w\") as fout:\n",
    "        # number of pizzas\n",
    "        fout.write(\"%d\\n\" % len(pizzas_to_order))\n",
    "        for s in pizzas_to_order:\n",
    "            fout.write(str(s) + \" \")\n",
    "    print(\"file: \" + output_file + \" was saved\")"
   ]
  },
  {
   "cell_type": "markdown",
   "metadata": {},
   "source": [
    "## Read data"
   ]
  },
  {
   "cell_type": "code",
   "execution_count": 54,
   "metadata": {
    "scrolled": false
   },
   "outputs": [
    {
     "name": "stdout",
     "output_type": "stream",
     "text": [
      "Maximum number of pizza slices to order: 505000000\n",
      "Number of dierent types of pizza: 10000\n"
     ]
    },
    {
     "data": {
      "application/javascript": [
       "\n",
       "            setTimeout(function() {\n",
       "                var nbb_cell_id = 54;\n",
       "                var nbb_unformatted_code = \"# Read the input file\\ninput_path = \\\"./input_data/\\\"\\n# file_name = \\\"a_example.in\\\"\\n# file_name = \\\"b_small.in\\\"\\n# file_name = \\\"c_medium.in\\\"\\n# file_name = \\\"d_quite_big.in\\\"\\nfile_name = \\\"e_also_big.in\\\"\\n\\n\\n[m, n, sizes] = read_input_file(input_path + file_name)\\nids_of_pizzas = np.arange(n)\\nprint(\\\"Maximum number of pizza slices to order:\\\", m)\\nprint(\\\"Number of dierent types of pizza:\\\", n)\";\n",
       "                var nbb_formatted_code = \"# Read the input file\\ninput_path = \\\"./input_data/\\\"\\n# file_name = \\\"a_example.in\\\"\\n# file_name = \\\"b_small.in\\\"\\n# file_name = \\\"c_medium.in\\\"\\n# file_name = \\\"d_quite_big.in\\\"\\nfile_name = \\\"e_also_big.in\\\"\\n\\n\\n[m, n, sizes] = read_input_file(input_path + file_name)\\nids_of_pizzas = np.arange(n)\\nprint(\\\"Maximum number of pizza slices to order:\\\", m)\\nprint(\\\"Number of dierent types of pizza:\\\", n)\";\n",
       "                var nbb_cells = Jupyter.notebook.get_cells();\n",
       "                for (var i = 0; i < nbb_cells.length; ++i) {\n",
       "                    if (nbb_cells[i].input_prompt_number == nbb_cell_id) {\n",
       "                        if (nbb_cells[i].get_text() == nbb_unformatted_code) {\n",
       "                             nbb_cells[i].set_text(nbb_formatted_code);\n",
       "                        }\n",
       "                        break;\n",
       "                    }\n",
       "                }\n",
       "            }, 500);\n",
       "            "
      ],
      "text/plain": [
       "<IPython.core.display.Javascript object>"
      ]
     },
     "metadata": {},
     "output_type": "display_data"
    }
   ],
   "source": [
    "# Read the input file\n",
    "input_path = \"./input_data/\"\n",
    "# file_name = \"a_example.in\"\n",
    "# file_name = \"b_small.in\"\n",
    "# file_name = \"c_medium.in\"\n",
    "# file_name = \"d_quite_big.in\"\n",
    "file_name = \"e_also_big.in\"\n",
    "\n",
    "\n",
    "[m, n, sizes] = read_input_file(input_path + file_name)\n",
    "ids_of_pizzas = np.arange(n)\n",
    "print(\"Maximum number of pizza slices to order:\", m)\n",
    "print(\"Number of dierent types of pizza:\", n)"
   ]
  },
  {
   "cell_type": "markdown",
   "metadata": {},
   "source": [
    "# How's the data?"
   ]
  },
  {
   "cell_type": "code",
   "execution_count": 55,
   "metadata": {},
   "outputs": [
    {
     "data": {
      "text/plain": [
       "<matplotlib.axes._subplots.AxesSubplot at 0x11c05d0f0>"
      ]
     },
     "execution_count": 55,
     "metadata": {},
     "output_type": "execute_result"
    },
    {
     "data": {
      "image/png": "[encoded data removed]",
      "text/plain": [
       "<Figure size 432x288 with 1 Axes>"
      ]
     },
     "metadata": {
      "needs_background": "light"
     },
     "output_type": "display_data"
    },
    {
     "data": {
      "application/javascript": [
       "\n",
       "            setTimeout(function() {\n",
       "                var nbb_cell_id = 55;\n",
       "                var nbb_unformatted_code = \"df_sizes = pd.DataFrame(columns=[\\\"nb_of_slices\\\"], data=sizes)\\ndf_sizes[\\\"nb_of_slices\\\"].hist(bins=50)\";\n",
       "                var nbb_formatted_code = \"df_sizes = pd.DataFrame(columns=[\\\"nb_of_slices\\\"], data=sizes)\\ndf_sizes[\\\"nb_of_slices\\\"].hist(bins=50)\";\n",
       "                var nbb_cells = Jupyter.notebook.get_cells();\n",
       "                for (var i = 0; i < nbb_cells.length; ++i) {\n",
       "                    if (nbb_cells[i].input_prompt_number == nbb_cell_id) {\n",
       "                        if (nbb_cells[i].get_text() == nbb_unformatted_code) {\n",
       "                             nbb_cells[i].set_text(nbb_formatted_code);\n",
       "                        }\n",
       "                        break;\n",
       "                    }\n",
       "                }\n",
       "            }, 500);\n",
       "            "
      ],
      "text/plain": [
       "<IPython.core.display.Javascript object>"
      ]
     },
     "metadata": {},
     "output_type": "display_data"
    }
   ],
   "source": [
    "df_sizes = pd.DataFrame(columns=[\"nb_of_slices\"], data=sizes)\n",
    "df_sizes[\"nb_of_slices\"].hist(bins=50)"
   ]
  },
  {
   "cell_type": "markdown",
   "metadata": {
    "collapsed": true
   },
   "source": [
    "# Trivial solution 1: add pizzas in order until limit is reached"
   ]
  },
  {
   "cell_type": "code",
   "execution_count": 56,
   "metadata": {},
   "outputs": [
    {
     "name": "stdout",
     "output_type": "stream",
     "text": [
      "limit reached\n",
      "Total slices 504959667.0\n"
     ]
    },
    {
     "data": {
      "application/javascript": [
       "\n",
       "            setTimeout(function() {\n",
       "                var nbb_cell_id = 56;\n",
       "                var nbb_unformatted_code = \"nb_of_slices = 0\\npizzas_to_order = []\\ntotal_slices = 0\\nfor i in range(n):\\n    if total_slices + sizes[i] < m:\\n        pizzas_to_order.append(i)\\n        total_slices += sizes[i]\\n    else:\\n        print(\\\"limit reached\\\")\\n        break\\nprint(\\\"Total slices\\\", total_slices)\";\n",
       "                var nbb_formatted_code = \"nb_of_slices = 0\\npizzas_to_order = []\\ntotal_slices = 0\\nfor i in range(n):\\n    if total_slices + sizes[i] < m:\\n        pizzas_to_order.append(i)\\n        total_slices += sizes[i]\\n    else:\\n        print(\\\"limit reached\\\")\\n        break\\nprint(\\\"Total slices\\\", total_slices)\";\n",
       "                var nbb_cells = Jupyter.notebook.get_cells();\n",
       "                for (var i = 0; i < nbb_cells.length; ++i) {\n",
       "                    if (nbb_cells[i].input_prompt_number == nbb_cell_id) {\n",
       "                        if (nbb_cells[i].get_text() == nbb_unformatted_code) {\n",
       "                             nbb_cells[i].set_text(nbb_formatted_code);\n",
       "                        }\n",
       "                        break;\n",
       "                    }\n",
       "                }\n",
       "            }, 500);\n",
       "            "
      ],
      "text/plain": [
       "<IPython.core.display.Javascript object>"
      ]
     },
     "metadata": {},
     "output_type": "display_data"
    }
   ],
   "source": [
    "nb_of_slices = 0\n",
    "pizzas_to_order = []\n",
    "total_slices = 0\n",
    "for i in range(n):\n",
    "    if total_slices + sizes[i] < m:\n",
    "        pizzas_to_order.append(i)\n",
    "        total_slices += sizes[i]\n",
    "    else:\n",
    "        print(\"limit reached\")\n",
    "        break\n",
    "print(\"Total slices\", total_slices)"
   ]
  },
  {
   "cell_type": "code",
   "execution_count": 57,
   "metadata": {},
   "outputs": [
    {
     "data": {
      "text/plain": [
       "40333.0"
      ]
     },
     "execution_count": 57,
     "metadata": {},
     "output_type": "execute_result"
    },
    {
     "data": {
      "application/javascript": [
       "\n",
       "            setTimeout(function() {\n",
       "                var nbb_cell_id = 57;\n",
       "                var nbb_unformatted_code = \"m - total_slices\";\n",
       "                var nbb_formatted_code = \"m - total_slices\";\n",
       "                var nbb_cells = Jupyter.notebook.get_cells();\n",
       "                for (var i = 0; i < nbb_cells.length; ++i) {\n",
       "                    if (nbb_cells[i].input_prompt_number == nbb_cell_id) {\n",
       "                        if (nbb_cells[i].get_text() == nbb_unformatted_code) {\n",
       "                             nbb_cells[i].set_text(nbb_formatted_code);\n",
       "                        }\n",
       "                        break;\n",
       "                    }\n",
       "                }\n",
       "            }, 500);\n",
       "            "
      ],
      "text/plain": [
       "<IPython.core.display.Javascript object>"
      ]
     },
     "metadata": {},
     "output_type": "display_data"
    }
   ],
   "source": [
    "m - total_slices"
   ]
  },
  {
   "cell_type": "code",
   "execution_count": 7,
   "metadata": {},
   "outputs": [
    {
     "name": "stdout",
     "output_type": "stream",
     "text": [
      "file: ./results/output_d_quite_big.in was saved\n"
     ]
    },
    {
     "data": {
      "application/javascript": [
       "\n",
       "            setTimeout(function() {\n",
       "                var nbb_cell_id = 7;\n",
       "                var nbb_unformatted_code = \"output_file = \\\"./results/output_\\\" + file_name\\nwrite_file(output_file, pizzas_to_order)\";\n",
       "                var nbb_formatted_code = \"output_file = \\\"./results/output_\\\" + file_name\\nwrite_file(output_file, pizzas_to_order)\";\n",
       "                var nbb_cells = Jupyter.notebook.get_cells();\n",
       "                for (var i = 0; i < nbb_cells.length; ++i) {\n",
       "                    if (nbb_cells[i].input_prompt_number == nbb_cell_id) {\n",
       "                        if (nbb_cells[i].get_text() == nbb_unformatted_code) {\n",
       "                             nbb_cells[i].set_text(nbb_formatted_code);\n",
       "                        }\n",
       "                        break;\n",
       "                    }\n",
       "                }\n",
       "            }, 500);\n",
       "            "
      ],
      "text/plain": [
       "<IPython.core.display.Javascript object>"
      ]
     },
     "metadata": {},
     "output_type": "display_data"
    }
   ],
   "source": [
    "output_file = \"./results/output_\" + file_name\n",
    "write_file(output_file, pizzas_to_order)"
   ]
  },
  {
   "cell_type": "markdown",
   "metadata": {},
   "source": [
    "# Trivial solution 2: sample pizzas wihtout replacement until limit is reached"
   ]
  },
  {
   "cell_type": "code",
   "execution_count": 58,
   "metadata": {},
   "outputs": [
    {
     "name": "stdout",
     "output_type": "stream",
     "text": [
      "limit reached\n",
      "Total slices 504990287.0\n"
     ]
    },
    {
     "data": {
      "application/javascript": [
       "\n",
       "            setTimeout(function() {\n",
       "                var nbb_cell_id = 58;\n",
       "                var nbb_unformatted_code = \"nb_of_slices = 0\\npizzas_to_order = []\\ntotal_slices = 0\\nnp.random.shuffle(ids_of_pizzas)\\n\\nfor i in ids_of_pizzas:\\n    if total_slices + sizes[i] < m:\\n        pizzas_to_order.append(i)\\n        total_slices += sizes[i]\\n    else:\\n        print(\\\"limit reached\\\")\\n        break\\nprint(\\\"Total slices\\\", total_slices)\";\n",
       "                var nbb_formatted_code = \"nb_of_slices = 0\\npizzas_to_order = []\\ntotal_slices = 0\\nnp.random.shuffle(ids_of_pizzas)\\n\\nfor i in ids_of_pizzas:\\n    if total_slices + sizes[i] < m:\\n        pizzas_to_order.append(i)\\n        total_slices += sizes[i]\\n    else:\\n        print(\\\"limit reached\\\")\\n        break\\nprint(\\\"Total slices\\\", total_slices)\";\n",
       "                var nbb_cells = Jupyter.notebook.get_cells();\n",
       "                for (var i = 0; i < nbb_cells.length; ++i) {\n",
       "                    if (nbb_cells[i].input_prompt_number == nbb_cell_id) {\n",
       "                        if (nbb_cells[i].get_text() == nbb_unformatted_code) {\n",
       "                             nbb_cells[i].set_text(nbb_formatted_code);\n",
       "                        }\n",
       "                        break;\n",
       "                    }\n",
       "                }\n",
       "            }, 500);\n",
       "            "
      ],
      "text/plain": [
       "<IPython.core.display.Javascript object>"
      ]
     },
     "metadata": {},
     "output_type": "display_data"
    }
   ],
   "source": [
    "nb_of_slices = 0\n",
    "pizzas_to_order = []\n",
    "total_slices = 0\n",
    "np.random.shuffle(ids_of_pizzas)\n",
    "\n",
    "for i in ids_of_pizzas:\n",
    "    if total_slices + sizes[i] < m:\n",
    "        pizzas_to_order.append(i)\n",
    "        total_slices += sizes[i]\n",
    "    else:\n",
    "        print(\"limit reached\")\n",
    "        break\n",
    "print(\"Total slices\", total_slices)"
   ]
  },
  {
   "cell_type": "code",
   "execution_count": 59,
   "metadata": {},
   "outputs": [
    {
     "data": {
      "text/plain": [
       "9713.0"
      ]
     },
     "execution_count": 59,
     "metadata": {},
     "output_type": "execute_result"
    },
    {
     "data": {
      "application/javascript": [
       "\n",
       "            setTimeout(function() {\n",
       "                var nbb_cell_id = 59;\n",
       "                var nbb_unformatted_code = \"m - total_slices\";\n",
       "                var nbb_formatted_code = \"m - total_slices\";\n",
       "                var nbb_cells = Jupyter.notebook.get_cells();\n",
       "                for (var i = 0; i < nbb_cells.length; ++i) {\n",
       "                    if (nbb_cells[i].input_prompt_number == nbb_cell_id) {\n",
       "                        if (nbb_cells[i].get_text() == nbb_unformatted_code) {\n",
       "                             nbb_cells[i].set_text(nbb_formatted_code);\n",
       "                        }\n",
       "                        break;\n",
       "                    }\n",
       "                }\n",
       "            }, 500);\n",
       "            "
      ],
      "text/plain": [
       "<IPython.core.display.Javascript object>"
      ]
     },
     "metadata": {},
     "output_type": "display_data"
    }
   ],
   "source": [
    "m - total_slices"
   ]
  },
  {
   "cell_type": "code",
   "execution_count": 9,
   "metadata": {},
   "outputs": [
    {
     "name": "stdout",
     "output_type": "stream",
     "text": [
      "file: ./results/output_d_quite_big.in was saved\n"
     ]
    },
    {
     "data": {
      "application/javascript": [
       "\n",
       "            setTimeout(function() {\n",
       "                var nbb_cell_id = 9;\n",
       "                var nbb_unformatted_code = \"output_file = \\\"./results/output_\\\" + file_name\\nwrite_file(output_file, pizzas_to_order)\";\n",
       "                var nbb_formatted_code = \"output_file = \\\"./results/output_\\\" + file_name\\nwrite_file(output_file, pizzas_to_order)\";\n",
       "                var nbb_cells = Jupyter.notebook.get_cells();\n",
       "                for (var i = 0; i < nbb_cells.length; ++i) {\n",
       "                    if (nbb_cells[i].input_prompt_number == nbb_cell_id) {\n",
       "                        if (nbb_cells[i].get_text() == nbb_unformatted_code) {\n",
       "                             nbb_cells[i].set_text(nbb_formatted_code);\n",
       "                        }\n",
       "                        break;\n",
       "                    }\n",
       "                }\n",
       "            }, 500);\n",
       "            "
      ],
      "text/plain": [
       "<IPython.core.display.Javascript object>"
      ]
     },
     "metadata": {},
     "output_type": "display_data"
    }
   ],
   "source": [
    "output_file = \"./results/output_\" + file_name\n",
    "write_file(output_file, pizzas_to_order)"
   ]
  },
  {
   "cell_type": "markdown",
   "metadata": {},
   "source": [
    "# Improving function 1: look for available \"small\" pizzas"
   ]
  },
  {
   "cell_type": "code",
   "execution_count": 60,
   "metadata": {},
   "outputs": [
    {
     "data": {
      "application/javascript": [
       "\n",
       "            setTimeout(function() {\n",
       "                var nbb_cell_id = 60;\n",
       "                var nbb_unformatted_code = \"unassigned_pizzas = set(ids_of_pizzas).difference(set(pizzas_to_order))\\n\\ndf_unassigned = pd.DataFrame(\\n    columns=[\\\"id_pizza\\\", \\\"nb_of_slices\\\"],\\n    data=list(zip(unassigned_pizzas, sizes[list(unassigned_pizzas)])),\\n)\\n\\ndf_unassigned.sort_values(by=\\\"nb_of_slices\\\", inplace=True)\\nids_unassigned = df_unassigned[\\\"id_pizza\\\"].values\";\n",
       "                var nbb_formatted_code = \"unassigned_pizzas = set(ids_of_pizzas).difference(set(pizzas_to_order))\\n\\ndf_unassigned = pd.DataFrame(\\n    columns=[\\\"id_pizza\\\", \\\"nb_of_slices\\\"],\\n    data=list(zip(unassigned_pizzas, sizes[list(unassigned_pizzas)])),\\n)\\n\\ndf_unassigned.sort_values(by=\\\"nb_of_slices\\\", inplace=True)\\nids_unassigned = df_unassigned[\\\"id_pizza\\\"].values\";\n",
       "                var nbb_cells = Jupyter.notebook.get_cells();\n",
       "                for (var i = 0; i < nbb_cells.length; ++i) {\n",
       "                    if (nbb_cells[i].input_prompt_number == nbb_cell_id) {\n",
       "                        if (nbb_cells[i].get_text() == nbb_unformatted_code) {\n",
       "                             nbb_cells[i].set_text(nbb_formatted_code);\n",
       "                        }\n",
       "                        break;\n",
       "                    }\n",
       "                }\n",
       "            }, 500);\n",
       "            "
      ],
      "text/plain": [
       "<IPython.core.display.Javascript object>"
      ]
     },
     "metadata": {},
     "output_type": "display_data"
    }
   ],
   "source": [
    "unassigned_pizzas = set(ids_of_pizzas).difference(set(pizzas_to_order))\n",
    "\n",
    "df_unassigned = pd.DataFrame(\n",
    "    columns=[\"id_pizza\", \"nb_of_slices\"],\n",
    "    data=list(zip(unassigned_pizzas, sizes[list(unassigned_pizzas)])),\n",
    ")\n",
    "\n",
    "df_unassigned.sort_values(by=\"nb_of_slices\", inplace=True)\n",
    "ids_unassigned = df_unassigned[\"id_pizza\"].values"
   ]
  },
  {
   "cell_type": "code",
   "execution_count": 61,
   "metadata": {},
   "outputs": [
    {
     "name": "stdout",
     "output_type": "stream",
     "text": [
      "limit reached\n",
      "Total slices 504999261.0\n"
     ]
    },
    {
     "data": {
      "application/javascript": [
       "\n",
       "            setTimeout(function() {\n",
       "                var nbb_cell_id = 61;\n",
       "                var nbb_unformatted_code = \"for i in ids_unassigned:\\n    if total_slices + sizes[i] < m:\\n        pizzas_to_order.append(i)\\n        total_slices += sizes[i]\\n    else:\\n        print(\\\"limit reached\\\")\\n        break\\nprint(\\\"Total slices\\\", total_slices)\";\n",
       "                var nbb_formatted_code = \"for i in ids_unassigned:\\n    if total_slices + sizes[i] < m:\\n        pizzas_to_order.append(i)\\n        total_slices += sizes[i]\\n    else:\\n        print(\\\"limit reached\\\")\\n        break\\nprint(\\\"Total slices\\\", total_slices)\";\n",
       "                var nbb_cells = Jupyter.notebook.get_cells();\n",
       "                for (var i = 0; i < nbb_cells.length; ++i) {\n",
       "                    if (nbb_cells[i].input_prompt_number == nbb_cell_id) {\n",
       "                        if (nbb_cells[i].get_text() == nbb_unformatted_code) {\n",
       "                             nbb_cells[i].set_text(nbb_formatted_code);\n",
       "                        }\n",
       "                        break;\n",
       "                    }\n",
       "                }\n",
       "            }, 500);\n",
       "            "
      ],
      "text/plain": [
       "<IPython.core.display.Javascript object>"
      ]
     },
     "metadata": {},
     "output_type": "display_data"
    }
   ],
   "source": [
    "for i in ids_unassigned:\n",
    "    if total_slices + sizes[i] < m:\n",
    "        pizzas_to_order.append(i)\n",
    "        total_slices += sizes[i]\n",
    "    else:\n",
    "        print(\"limit reached\")\n",
    "        break\n",
    "print(\"Total slices\", total_slices)"
   ]
  },
  {
   "cell_type": "code",
   "execution_count": 62,
   "metadata": {},
   "outputs": [
    {
     "data": {
      "text/plain": [
       "739.0"
      ]
     },
     "execution_count": 62,
     "metadata": {},
     "output_type": "execute_result"
    },
    {
     "data": {
      "application/javascript": [
       "\n",
       "            setTimeout(function() {\n",
       "                var nbb_cell_id = 62;\n",
       "                var nbb_unformatted_code = \"m - total_slices\";\n",
       "                var nbb_formatted_code = \"m - total_slices\";\n",
       "                var nbb_cells = Jupyter.notebook.get_cells();\n",
       "                for (var i = 0; i < nbb_cells.length; ++i) {\n",
       "                    if (nbb_cells[i].input_prompt_number == nbb_cell_id) {\n",
       "                        if (nbb_cells[i].get_text() == nbb_unformatted_code) {\n",
       "                             nbb_cells[i].set_text(nbb_formatted_code);\n",
       "                        }\n",
       "                        break;\n",
       "                    }\n",
       "                }\n",
       "            }, 500);\n",
       "            "
      ],
      "text/plain": [
       "<IPython.core.display.Javascript object>"
      ]
     },
     "metadata": {},
     "output_type": "display_data"
    }
   ],
   "source": [
    "m - total_slices"
   ]
  },
  {
   "cell_type": "code",
   "execution_count": 63,
   "metadata": {},
   "outputs": [
    {
     "name": "stdout",
     "output_type": "stream",
     "text": [
      "file: ./results/output_e_also_big.in was saved\n"
     ]
    },
    {
     "data": {
      "application/javascript": [
       "\n",
       "            setTimeout(function() {\n",
       "                var nbb_cell_id = 63;\n",
       "                var nbb_unformatted_code = \"output_file = \\\"./results/output_\\\" + file_name\\nwrite_file(output_file, pizzas_to_order)\";\n",
       "                var nbb_formatted_code = \"output_file = \\\"./results/output_\\\" + file_name\\nwrite_file(output_file, pizzas_to_order)\";\n",
       "                var nbb_cells = Jupyter.notebook.get_cells();\n",
       "                for (var i = 0; i < nbb_cells.length; ++i) {\n",
       "                    if (nbb_cells[i].input_prompt_number == nbb_cell_id) {\n",
       "                        if (nbb_cells[i].get_text() == nbb_unformatted_code) {\n",
       "                             nbb_cells[i].set_text(nbb_formatted_code);\n",
       "                        }\n",
       "                        break;\n",
       "                    }\n",
       "                }\n",
       "            }, 500);\n",
       "            "
      ],
      "text/plain": [
       "<IPython.core.display.Javascript object>"
      ]
     },
     "metadata": {},
     "output_type": "display_data"
    }
   ],
   "source": [
    "output_file = \"./results/output_\" + file_name\n",
    "write_file(output_file, pizzas_to_order)"
   ]
  },
  {
   "cell_type": "code",
   "execution_count": null,
   "metadata": {},
   "outputs": [],
   "source": []
  }
 ],
 "metadata": {
  "kernelspec": {
   "display_name": "Python 3",
   "language": "python",
   "name": "python3"
  },
  "language_info": {
   "codemirror_mode": {
    "name": "ipython",
    "version": 3
   },
   "file_extension": ".py",
   "mimetype": "text/x-python",
   "name": "python",
   "nbconvert_exporter": "python",
   "pygments_lexer": "ipython3",
   "version": "3.7.3"
  }
 },
 "nbformat": 4,
 "nbformat_minor": 1
}
