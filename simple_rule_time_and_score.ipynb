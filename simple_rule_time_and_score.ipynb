{
 "cells": [
  {
   "cell_type": "code",
   "execution_count": 1,
   "metadata": {},
   "outputs": [
    {
     "data": {
      "application/javascript": [
       "\n",
       "            setTimeout(function() {\n",
       "                var nbb_cell_id = 1;\n",
       "                var nbb_unformatted_code = \"# from read_and_write_functions import *\\nimport numpy as np\\nfrom tqdm import tqdm\\n\\n%load_ext nb_black\";\n",
       "                var nbb_formatted_code = \"# from read_and_write_functions import *\\nimport numpy as np\\nfrom tqdm import tqdm\\n\\n%load_ext nb_black\";\n",
       "                var nbb_cells = Jupyter.notebook.get_cells();\n",
       "                for (var i = 0; i < nbb_cells.length; ++i) {\n",
       "                    if (nbb_cells[i].input_prompt_number == nbb_cell_id) {\n",
       "                        if (nbb_cells[i].get_text() == nbb_unformatted_code) {\n",
       "                             nbb_cells[i].set_text(nbb_formatted_code);\n",
       "                        }\n",
       "                        break;\n",
       "                    }\n",
       "                }\n",
       "            }, 500);\n",
       "            "
      ],
      "text/plain": [
       "<IPython.core.display.Javascript object>"
      ]
     },
     "metadata": {},
     "output_type": "display_data"
    }
   ],
   "source": [
    "# from read_and_write_functions import *\n",
    "import numpy as np\n",
    "from tqdm import tqdm\n",
    "\n",
    "%load_ext nb_black"
   ]
  },
  {
   "cell_type": "code",
   "execution_count": 2,
   "metadata": {},
   "outputs": [
    {
     "data": {
      "application/javascript": [
       "\n",
       "            setTimeout(function() {\n",
       "                var nbb_cell_id = 2;\n",
       "                var nbb_unformatted_code = \"\\ndef read_input_file(file_name):\\n    print(file_name)\\n    with open(file_name, \\\"r\\\") as fin:\\n        line = fin.readline()\\n        n_books, n_libs, n_days = [int(num) for num in line.split()]\\n        line = fin.readline()\\n        scores = [int(num) for num in line.split()]\\n        libs = []\\n        for i in range(n_libs):\\n            line = fin.readline()\\n            li_nbooks, lui_signup, li_max = [int(num) for num in line.split()]\\n            line = fin.readline()\\n            li_books = [int(num) for num in line.split()]\\n            def bookscore(bi):\\n                return scores[bi]\\n            li_books = sorted(li_books, reverse=True, key=bookscore)\\n            li_scores_of_books = list(np.array(scores)[li_books])\\n            li_bookscore= li_max*(sum(li_scores_of_books)/li_nbooks)\\n        \\n            libs.append(\\n                [\\n                    li_nbooks,\\n                    lui_signup,\\n                    li_max,\\n                    li_books,\\n                    i,\\n                    li_bookscore,\\n                    li_scores_of_books,\\n                ]\\n            )\\n    return n_books, n_libs, n_days, scores, libs\\n\\n\\ndef write_file(output_file, sln):\\n    with open(output_file, \\\"w\\\") as fout:\\n        fout.write(sln)\\n    print(\\\"file: \\\" + output_file + \\\" was saved\\\")\";\n",
       "                var nbb_formatted_code = \"def read_input_file(file_name):\\n    print(file_name)\\n    with open(file_name, \\\"r\\\") as fin:\\n        line = fin.readline()\\n        n_books, n_libs, n_days = [int(num) for num in line.split()]\\n        line = fin.readline()\\n        scores = [int(num) for num in line.split()]\\n        libs = []\\n        for i in range(n_libs):\\n            line = fin.readline()\\n            li_nbooks, lui_signup, li_max = [int(num) for num in line.split()]\\n            line = fin.readline()\\n            li_books = [int(num) for num in line.split()]\\n\\n            def bookscore(bi):\\n                return scores[bi]\\n\\n            li_books = sorted(li_books, reverse=True, key=bookscore)\\n            li_scores_of_books = list(np.array(scores)[li_books])\\n            li_bookscore = li_max * (sum(li_scores_of_books) / li_nbooks)\\n\\n            libs.append(\\n                [\\n                    li_nbooks,\\n                    lui_signup,\\n                    li_max,\\n                    li_books,\\n                    i,\\n                    li_bookscore,\\n                    li_scores_of_books,\\n                ]\\n            )\\n    return n_books, n_libs, n_days, scores, libs\\n\\n\\ndef write_file(output_file, sln):\\n    with open(output_file, \\\"w\\\") as fout:\\n        fout.write(sln)\\n    print(\\\"file: \\\" + output_file + \\\" was saved\\\")\";\n",
       "                var nbb_cells = Jupyter.notebook.get_cells();\n",
       "                for (var i = 0; i < nbb_cells.length; ++i) {\n",
       "                    if (nbb_cells[i].input_prompt_number == nbb_cell_id) {\n",
       "                        if (nbb_cells[i].get_text() == nbb_unformatted_code) {\n",
       "                             nbb_cells[i].set_text(nbb_formatted_code);\n",
       "                        }\n",
       "                        break;\n",
       "                    }\n",
       "                }\n",
       "            }, 500);\n",
       "            "
      ],
      "text/plain": [
       "<IPython.core.display.Javascript object>"
      ]
     },
     "metadata": {},
     "output_type": "display_data"
    }
   ],
   "source": [
    "\n",
    "def read_input_file(file_name):\n",
    "    print(file_name)\n",
    "    with open(file_name, \"r\") as fin:\n",
    "        line = fin.readline()\n",
    "        n_books, n_libs, n_days = [int(num) for num in line.split()]\n",
    "        line = fin.readline()\n",
    "        scores = [int(num) for num in line.split()]\n",
    "        libs = []\n",
    "        for i in range(n_libs):\n",
    "            line = fin.readline()\n",
    "            li_nbooks, lui_signup, li_max = [int(num) for num in line.split()]\n",
    "            line = fin.readline()\n",
    "            li_books = [int(num) for num in line.split()]\n",
    "            def bookscore(bi):\n",
    "                return scores[bi]\n",
    "            li_books = sorted(li_books, reverse=True, key=bookscore)\n",
    "            li_scores_of_books = list(np.array(scores)[li_books])\n",
    "            li_bookscore= li_max*(sum(li_scores_of_books)/li_nbooks)\n",
    "        \n",
    "            libs.append(\n",
    "                [\n",
    "                    li_nbooks,\n",
    "                    lui_signup,\n",
    "                    li_max,\n",
    "                    li_books,\n",
    "                    i,\n",
    "                    li_bookscore,\n",
    "                    li_scores_of_books,\n",
    "                ]\n",
    "            )\n",
    "    return n_books, n_libs, n_days, scores, libs\n",
    "\n",
    "\n",
    "def write_file(output_file, sln):\n",
    "    with open(output_file, \"w\") as fout:\n",
    "        fout.write(sln)\n",
    "    print(\"file: \" + output_file + \" was saved\")\n"
   ]
  },
  {
   "cell_type": "code",
   "execution_count": 3,
   "metadata": {},
   "outputs": [
    {
     "name": "stdout",
     "output_type": "stream",
     "text": [
      "./input_files/b_read_on.txt\n"
     ]
    },
    {
     "data": {
      "text/plain": [
       "100"
      ]
     },
     "execution_count": 3,
     "metadata": {},
     "output_type": "execute_result"
    },
    {
     "data": {
      "application/javascript": [
       "\n",
       "            setTimeout(function() {\n",
       "                var nbb_cell_id = 3;\n",
       "                var nbb_unformatted_code = \"# Read the input file\\ninput_path = \\\"./input_files/\\\"\\noutput_path = \\\"./output_files/\\\"\\nfile_name = \\\"a_example.txt\\\"\\nfile_name = \\\"b_read_on.txt\\\"\\n# file_name = \\\"c_incunabula.txt\\\"\\n# file_name = \\\"d_tough_choices.txt\\\"\\n# file_name = \\\"e_so_many_books.txt\\\"\\n# file_name = \\\"f_libraries_of_the_world.txt\\\"\\n\\nglobal n_days, scores\\n\\nn_books, n_libs, n_days, scores, libs = read_input_file(input_path + file_name)\\n\\n\\ndef lib_quality_score(lib):\\n    max_sending_days = n_days - lib[1]\\n    li_bookscore = lib[5]\\n    return (max_sending_days, li_bookscore)\\n\\n\\ndef update_orders(libs, added_books):\\n    for lib in libs:\\n        lib[3] = list(set(lib[3]).difference(added_books))\\n\\n        def bookscore(bi):\\n            return scores[bi]\\n\\n        lib[3] = sorted(lib[3], reverse=True, key=bookscore)\\n\\n    sorted_libs = sorted(libs, reverse=True, key=lib_quality_score)\\n    return sorted_libs\\n\\n\\nsorted_libs = sorted(libs, reverse=True, key=lib_quality_score)\\nlen(sorted_libs)\";\n",
       "                var nbb_formatted_code = \"# Read the input file\\ninput_path = \\\"./input_files/\\\"\\noutput_path = \\\"./output_files/\\\"\\nfile_name = \\\"a_example.txt\\\"\\nfile_name = \\\"b_read_on.txt\\\"\\n# file_name = \\\"c_incunabula.txt\\\"\\n# file_name = \\\"d_tough_choices.txt\\\"\\n# file_name = \\\"e_so_many_books.txt\\\"\\n# file_name = \\\"f_libraries_of_the_world.txt\\\"\\n\\nglobal n_days, scores\\n\\nn_books, n_libs, n_days, scores, libs = read_input_file(input_path + file_name)\\n\\n\\ndef lib_quality_score(lib):\\n    max_sending_days = n_days - lib[1]\\n    li_bookscore = lib[5]\\n    return (max_sending_days, li_bookscore)\\n\\n\\ndef update_orders(libs, added_books):\\n    for lib in libs:\\n        lib[3] = list(set(lib[3]).difference(added_books))\\n\\n        def bookscore(bi):\\n            return scores[bi]\\n\\n        lib[3] = sorted(lib[3], reverse=True, key=bookscore)\\n\\n    sorted_libs = sorted(libs, reverse=True, key=lib_quality_score)\\n    return sorted_libs\\n\\n\\nsorted_libs = sorted(libs, reverse=True, key=lib_quality_score)\\nlen(sorted_libs)\";\n",
       "                var nbb_cells = Jupyter.notebook.get_cells();\n",
       "                for (var i = 0; i < nbb_cells.length; ++i) {\n",
       "                    if (nbb_cells[i].input_prompt_number == nbb_cell_id) {\n",
       "                        if (nbb_cells[i].get_text() == nbb_unformatted_code) {\n",
       "                             nbb_cells[i].set_text(nbb_formatted_code);\n",
       "                        }\n",
       "                        break;\n",
       "                    }\n",
       "                }\n",
       "            }, 500);\n",
       "            "
      ],
      "text/plain": [
       "<IPython.core.display.Javascript object>"
      ]
     },
     "metadata": {},
     "output_type": "display_data"
    }
   ],
   "source": [
    "# Read the input file\n",
    "input_path = \"./input_files/\"\n",
    "output_path = \"./output_files/\"\n",
    "file_name = \"a_example.txt\"\n",
    "file_name = \"b_read_on.txt\"\n",
    "# file_name = \"c_incunabula.txt\"\n",
    "# file_name = \"d_tough_choices.txt\"\n",
    "# file_name = \"e_so_many_books.txt\"\n",
    "# file_name = \"f_libraries_of_the_world.txt\"\n",
    "\n",
    "global n_days, scores\n",
    "\n",
    "n_books, n_libs, n_days, scores, libs = read_input_file(input_path + file_name)\n",
    "\n",
    "\n",
    "def lib_quality_score(lib):\n",
    "    max_sending_days = n_days - lib[1]\n",
    "    li_bookscore = lib[5]\n",
    "    return (max_sending_days, li_bookscore)\n",
    "\n",
    "\n",
    "def update_orders(libs, added_books):\n",
    "    for lib in libs:\n",
    "        lib[3] = list(set(lib[3]).difference(added_books))\n",
    "\n",
    "        def bookscore(bi):\n",
    "            return scores[bi]\n",
    "\n",
    "        lib[3] = sorted(lib[3], reverse=True, key=bookscore)\n",
    "\n",
    "    sorted_libs = sorted(libs, reverse=True, key=lib_quality_score)\n",
    "    return sorted_libs\n",
    "\n",
    "\n",
    "sorted_libs = sorted(libs, reverse=True, key=lib_quality_score)\n",
    "len(sorted_libs)"
   ]
  },
  {
   "cell_type": "code",
   "execution_count": 4,
   "metadata": {},
   "outputs": [
    {
     "name": "stdout",
     "output_type": "stream",
     "text": [
      "lib was added\n",
      "lib was added\n",
      "lib was added\n",
      "lib was added\n",
      "lib was added\n",
      "lib was added\n",
      "lib was added\n",
      "lib was added\n",
      "lib was added\n",
      "lib was added\n",
      "lib was added\n",
      "lib was added\n",
      "lib was added\n",
      "lib was added\n",
      "lib was added\n",
      "lib was added\n",
      "lib was added\n",
      "lib was added\n",
      "lib was added\n",
      "lib was added\n",
      "lib was added\n",
      "lib was added\n",
      "lib was added\n",
      "lib was added\n",
      "lib was added\n",
      "lib was added\n",
      "lib was added\n",
      "lib was added\n",
      "lib was added\n",
      "lib was added\n",
      "lib was added\n",
      "lib was added\n",
      "lib was added\n",
      "lib was added\n",
      "lib was added\n",
      "lib was added\n",
      "lib was added\n",
      "lib was added\n",
      "lib was added\n",
      "lib was added\n",
      "lib was added\n",
      "lib was added\n",
      "lib was added\n",
      "lib was added\n",
      "lib was added\n",
      "lib was added\n",
      "lib was added\n",
      "lib was added\n",
      "lib was added\n",
      "lib was added\n",
      "lib was added\n",
      "lib was added\n",
      "lib was added\n",
      "lib was added\n",
      "lib was added\n",
      "lib was added\n",
      "lib was added\n",
      "lib was added\n",
      "lib was added\n",
      "lib was added\n",
      "lib was added\n",
      "lib was added\n",
      "lib was added\n",
      "lib was added\n",
      "lib was added\n",
      "lib was added\n",
      "lib was added\n",
      "lib was added\n",
      "lib was added\n",
      "lib was added\n",
      "lib was added\n",
      "lib was added\n",
      "lib was added\n",
      "lib was added\n",
      "lib was added\n",
      "lib was added\n",
      "lib was added\n",
      "lib was added\n",
      "lib was added\n",
      "lib was added\n",
      "lib was added\n",
      "lib was added\n",
      "lib was added\n",
      "lib was added\n",
      "lib was added\n",
      "lib was added\n",
      "lib was added\n",
      "lib was added\n",
      "lib was added\n",
      "lib was added\n",
      "lib was added\n",
      "lib was added\n",
      "lib was added\n",
      "lib was added\n",
      "lib was added\n",
      "lib was added\n",
      "lib was added\n",
      "lib was added\n",
      "lib was added\n",
      "lib was added\n"
     ]
    },
    {
     "data": {
      "application/javascript": [
       "\n",
       "            setTimeout(function() {\n",
       "                var nbb_cell_id = 4;\n",
       "                var nbb_unformatted_code = \"added_books = set([])\\nsolution = [-1]\\nnb_added_libs = 0\\nare_libs_left = True\\nwhile are_libs_left:\\n    lib = sorted_libs[0]\\n    lib[3] = list(set(lib[3]).difference(added_books))\\n#     print(\\\"------ iteration\\\", i)\\n#     print(\\\"lib\\\", lib)\\n    if len(lib[3]) > 0:\\n        nb_added_libs += 1\\n        solution.append([lib[4], len(lib[3])])\\n        solution.append(lib[3])\\n        added_books = added_books.union(set(lib[3]))\\n        sorted_libs.pop(0)\\n        sorted_libs = update_orders(sorted_libs, added_books)\\n        print(\\\"lib was added\\\")\\n#         print(\\\"len libs\\\", len(sorted_libs))\\n    if len(sorted_libs) == 0:\\n        are_libs_left = False\\n\\nsolution[0] = nb_added_libs\";\n",
       "                var nbb_formatted_code = \"added_books = set([])\\nsolution = [-1]\\nnb_added_libs = 0\\nare_libs_left = True\\nwhile are_libs_left:\\n    lib = sorted_libs[0]\\n    lib[3] = list(set(lib[3]).difference(added_books))\\n    #     print(\\\"------ iteration\\\", i)\\n    #     print(\\\"lib\\\", lib)\\n    if len(lib[3]) > 0:\\n        nb_added_libs += 1\\n        solution.append([lib[4], len(lib[3])])\\n        solution.append(lib[3])\\n        added_books = added_books.union(set(lib[3]))\\n        sorted_libs.pop(0)\\n        sorted_libs = update_orders(sorted_libs, added_books)\\n        print(\\\"lib was added\\\")\\n    #         print(\\\"len libs\\\", len(sorted_libs))\\n    if len(sorted_libs) == 0:\\n        are_libs_left = False\\n\\nsolution[0] = nb_added_libs\";\n",
       "                var nbb_cells = Jupyter.notebook.get_cells();\n",
       "                for (var i = 0; i < nbb_cells.length; ++i) {\n",
       "                    if (nbb_cells[i].input_prompt_number == nbb_cell_id) {\n",
       "                        if (nbb_cells[i].get_text() == nbb_unformatted_code) {\n",
       "                             nbb_cells[i].set_text(nbb_formatted_code);\n",
       "                        }\n",
       "                        break;\n",
       "                    }\n",
       "                }\n",
       "            }, 500);\n",
       "            "
      ],
      "text/plain": [
       "<IPython.core.display.Javascript object>"
      ]
     },
     "metadata": {},
     "output_type": "display_data"
    }
   ],
   "source": [
    "added_books = set([])\n",
    "solution = [-1]\n",
    "nb_added_libs = 0\n",
    "are_libs_left = True\n",
    "while are_libs_left:\n",
    "    lib = sorted_libs[0]\n",
    "    lib[3] = list(set(lib[3]).difference(added_books))\n",
    "    #     print(\"------ iteration\", i)\n",
    "    #     print(\"lib\", lib)\n",
    "    if len(lib[3]) > 0:\n",
    "        nb_added_libs += 1\n",
    "        solution.append([lib[4], len(lib[3])])\n",
    "        solution.append(lib[3])\n",
    "        added_books = added_books.union(set(lib[3]))\n",
    "        sorted_libs.pop(0)\n",
    "        sorted_libs = update_orders(sorted_libs, added_books)\n",
    "        print(\"lib was added\")\n",
    "    #         print(\"len libs\", len(sorted_libs))\n",
    "    if len(sorted_libs) == 0:\n",
    "        are_libs_left = False\n",
    "\n",
    "solution[0] = nb_added_libs"
   ]
  },
  {
   "cell_type": "code",
   "execution_count": null,
   "metadata": {},
   "outputs": [],
   "source": [
    "# solution"
   ]
  },
  {
   "cell_type": "code",
   "execution_count": 5,
   "metadata": {},
   "outputs": [
    {
     "data": {
      "application/javascript": [
       "\n",
       "            setTimeout(function() {\n",
       "                var nbb_cell_id = 5;\n",
       "                var nbb_unformatted_code = \"def generate_output(solution):\\n    output_str = str(solution[0]) + \\\"\\\\n\\\"\\n    for line in solution[1:]:\\n        for element in line:\\n            output_str += str(element) + \\\" \\\"\\n        output_str += \\\"\\\\n\\\"\\n    return output_str[:-1]\";\n",
       "                var nbb_formatted_code = \"def generate_output(solution):\\n    output_str = str(solution[0]) + \\\"\\\\n\\\"\\n    for line in solution[1:]:\\n        for element in line:\\n            output_str += str(element) + \\\" \\\"\\n        output_str += \\\"\\\\n\\\"\\n    return output_str[:-1]\";\n",
       "                var nbb_cells = Jupyter.notebook.get_cells();\n",
       "                for (var i = 0; i < nbb_cells.length; ++i) {\n",
       "                    if (nbb_cells[i].input_prompt_number == nbb_cell_id) {\n",
       "                        if (nbb_cells[i].get_text() == nbb_unformatted_code) {\n",
       "                             nbb_cells[i].set_text(nbb_formatted_code);\n",
       "                        }\n",
       "                        break;\n",
       "                    }\n",
       "                }\n",
       "            }, 500);\n",
       "            "
      ],
      "text/plain": [
       "<IPython.core.display.Javascript object>"
      ]
     },
     "metadata": {},
     "output_type": "display_data"
    }
   ],
   "source": [
    "def generate_output(solution):\n",
    "    output_str = str(solution[0]) + \"\\n\"\n",
    "    for line in solution[1:]:\n",
    "        for element in line:\n",
    "            output_str += str(element) + \" \"\n",
    "        output_str += \"\\n\"\n",
    "    return output_str[:-1]"
   ]
  },
  {
   "cell_type": "code",
   "execution_count": 6,
   "metadata": {},
   "outputs": [
    {
     "name": "stdout",
     "output_type": "stream",
     "text": [
      "file: ./output_files/_bf_b_read_on.txt was saved\n"
     ]
    },
    {
     "data": {
      "application/javascript": [
       "\n",
       "            setTimeout(function() {\n",
       "                var nbb_cell_id = 6;\n",
       "                var nbb_unformatted_code = \"sln_str = generate_output(solution)\\noutput_file = output_path + \\\"_bf_\\\" + file_name\\nwrite_file(output_file, sln_str)\";\n",
       "                var nbb_formatted_code = \"sln_str = generate_output(solution)\\noutput_file = output_path + \\\"_bf_\\\" + file_name\\nwrite_file(output_file, sln_str)\";\n",
       "                var nbb_cells = Jupyter.notebook.get_cells();\n",
       "                for (var i = 0; i < nbb_cells.length; ++i) {\n",
       "                    if (nbb_cells[i].input_prompt_number == nbb_cell_id) {\n",
       "                        if (nbb_cells[i].get_text() == nbb_unformatted_code) {\n",
       "                             nbb_cells[i].set_text(nbb_formatted_code);\n",
       "                        }\n",
       "                        break;\n",
       "                    }\n",
       "                }\n",
       "            }, 500);\n",
       "            "
      ],
      "text/plain": [
       "<IPython.core.display.Javascript object>"
      ]
     },
     "metadata": {},
     "output_type": "display_data"
    }
   ],
   "source": [
    "sln_str = generate_output(solution)\n",
    "output_file = output_path + \"_bf_\" + file_name\n",
    "write_file(output_file, sln_str)"
   ]
  },
  {
   "cell_type": "code",
   "execution_count": null,
   "metadata": {},
   "outputs": [],
   "source": []
  },
  {
   "cell_type": "code",
   "execution_count": null,
   "metadata": {},
   "outputs": [],
   "source": []
  },
  {
   "cell_type": "code",
   "execution_count": null,
   "metadata": {},
   "outputs": [],
   "source": []
  }
 ],
 "metadata": {
  "kernelspec": {
   "display_name": "Python 3",
   "language": "python",
   "name": "python3"
  },
  "language_info": {
   "codemirror_mode": {
    "name": "ipython",
    "version": 3
   },
   "file_extension": ".py",
   "mimetype": "text/x-python",
   "name": "python",
   "nbconvert_exporter": "python",
   "pygments_lexer": "ipython3",
   "version": "3.7.4"
  }
 },
 "nbformat": 4,
 "nbformat_minor": 2
}
