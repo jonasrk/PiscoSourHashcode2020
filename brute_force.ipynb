{
 "cells": [
  {
   "cell_type": "code",
   "execution_count": 1,
   "metadata": {},
   "outputs": [
    {
     "data": {
      "application/javascript": [
       "\n",
       "            setTimeout(function() {\n",
       "                var nbb_cell_id = 1;\n",
       "                var nbb_unformatted_code = \"# from read_and_write_functions import *\\nimport numpy as np\\nfrom tqdm import tqdm\\n\\n%load_ext nb_black\";\n",
       "                var nbb_formatted_code = \"# from read_and_write_functions import *\\nimport numpy as np\\nfrom tqdm import tqdm\\n\\n%load_ext nb_black\";\n",
       "                var nbb_cells = Jupyter.notebook.get_cells();\n",
       "                for (var i = 0; i < nbb_cells.length; ++i) {\n",
       "                    if (nbb_cells[i].input_prompt_number == nbb_cell_id) {\n",
       "                        if (nbb_cells[i].get_text() == nbb_unformatted_code) {\n",
       "                             nbb_cells[i].set_text(nbb_formatted_code);\n",
       "                        }\n",
       "                        break;\n",
       "                    }\n",
       "                }\n",
       "            }, 500);\n",
       "            "
      ],
      "text/plain": [
       "<IPython.core.display.Javascript object>"
      ]
     },
     "metadata": {},
     "output_type": "display_data"
    }
   ],
   "source": [
    "# from read_and_write_functions import *\n",
    "import numpy as np\n",
    "from tqdm import tqdm\n",
    "\n",
    "%load_ext nb_black"
   ]
  },
  {
   "cell_type": "code",
   "execution_count": 2,
   "metadata": {},
   "outputs": [
    {
     "data": {
      "application/javascript": [
       "\n",
       "            setTimeout(function() {\n",
       "                var nbb_cell_id = 2;\n",
       "                var nbb_unformatted_code = \"def read_input_file(file_name):\\n    print(file_name)\\n    with open(file_name, \\\"r\\\") as fin:\\n        line = fin.readline()\\n        n_books, n_libs, n_days = [int(num) for num in line.split()]\\n        line = fin.readline()\\n        scores = [int(num) for num in line.split()]\\n        libs = []\\n        for i in range(n_libs):\\n            line = fin.readline()\\n            li_nbooks, lui_signup, li_max = [int(num) for num in line.split()]\\n            line = fin.readline()\\n            li_books = [int(num) for num in line.split()]\\n            def bookscore(bi):\\n                return scores[bi]\\n            li_books = sorted(li_books, reverse=True, key=bookscore)\\n            li_scores_of_books = []\\n            li_bookscore = 0\\n            for bi in li_books:\\n                li_bookscore += scores[bi]\\n                li_scores_of_books.append(scores[bi])\\n            li_bookscore = li_bookscore / li_nbooks\\n            \\n            libs.append([li_nbooks, lui_signup, li_max, li_books, i, li_bookscore, li_scores_of_books])\\n    return n_books, n_libs, n_days, scores, libs\\n\\ndef write_file(output_file, sln):\\n    with open(output_file, \\\"w\\\") as fout:\\n        fout.write(sln)\\n    print(\\\"file: \\\" + output_file + \\\" was saved\\\")\";\n",
       "                var nbb_formatted_code = \"def read_input_file(file_name):\\n    print(file_name)\\n    with open(file_name, \\\"r\\\") as fin:\\n        line = fin.readline()\\n        n_books, n_libs, n_days = [int(num) for num in line.split()]\\n        line = fin.readline()\\n        scores = [int(num) for num in line.split()]\\n        libs = []\\n        for i in range(n_libs):\\n            line = fin.readline()\\n            li_nbooks, lui_signup, li_max = [int(num) for num in line.split()]\\n            line = fin.readline()\\n            li_books = [int(num) for num in line.split()]\\n\\n            def bookscore(bi):\\n                return scores[bi]\\n\\n            li_books = sorted(li_books, reverse=True, key=bookscore)\\n            li_scores_of_books = []\\n            li_bookscore = 0\\n            for bi in li_books:\\n                li_bookscore += scores[bi]\\n                li_scores_of_books.append(scores[bi])\\n            li_bookscore = li_bookscore / li_nbooks\\n\\n            libs.append(\\n                [\\n                    li_nbooks,\\n                    lui_signup,\\n                    li_max,\\n                    li_books,\\n                    i,\\n                    li_bookscore,\\n                    li_scores_of_books,\\n                ]\\n            )\\n    return n_books, n_libs, n_days, scores, libs\\n\\n\\ndef write_file(output_file, sln):\\n    with open(output_file, \\\"w\\\") as fout:\\n        fout.write(sln)\\n    print(\\\"file: \\\" + output_file + \\\" was saved\\\")\";\n",
       "                var nbb_cells = Jupyter.notebook.get_cells();\n",
       "                for (var i = 0; i < nbb_cells.length; ++i) {\n",
       "                    if (nbb_cells[i].input_prompt_number == nbb_cell_id) {\n",
       "                        if (nbb_cells[i].get_text() == nbb_unformatted_code) {\n",
       "                             nbb_cells[i].set_text(nbb_formatted_code);\n",
       "                        }\n",
       "                        break;\n",
       "                    }\n",
       "                }\n",
       "            }, 500);\n",
       "            "
      ],
      "text/plain": [
       "<IPython.core.display.Javascript object>"
      ]
     },
     "metadata": {},
     "output_type": "display_data"
    }
   ],
   "source": [
    "def read_input_file(file_name):\n",
    "    print(file_name)\n",
    "    with open(file_name, \"r\") as fin:\n",
    "        line = fin.readline()\n",
    "        n_books, n_libs, n_days = [int(num) for num in line.split()]\n",
    "        line = fin.readline()\n",
    "        scores = [int(num) for num in line.split()]\n",
    "        libs = []\n",
    "        for i in range(n_libs):\n",
    "            line = fin.readline()\n",
    "            li_nbooks, lui_signup, li_max = [int(num) for num in line.split()]\n",
    "            line = fin.readline()\n",
    "            li_books = [int(num) for num in line.split()]\n",
    "            def bookscore(bi):\n",
    "                return scores[bi]\n",
    "            li_books = sorted(li_books, reverse=True, key=bookscore)\n",
    "            li_scores_of_books = []\n",
    "            li_bookscore = 0\n",
    "            for bi in li_books:\n",
    "                li_bookscore += scores[bi]\n",
    "                li_scores_of_books.append(scores[bi])\n",
    "            li_bookscore = li_bookscore / li_nbooks\n",
    "            \n",
    "            libs.append([li_nbooks, lui_signup, li_max, li_books, i, li_bookscore, li_scores_of_books])\n",
    "    return n_books, n_libs, n_days, scores, libs\n",
    "\n",
    "def write_file(output_file, sln):\n",
    "    with open(output_file, \"w\") as fout:\n",
    "        fout.write(sln)\n",
    "    print(\"file: \" + output_file + \" was saved\")\n"
   ]
  },
  {
   "cell_type": "code",
   "execution_count": 3,
   "metadata": {},
   "outputs": [
    {
     "name": "stdout",
     "output_type": "stream",
     "text": [
      "./input_files/c_incunabula.txt\n"
     ]
    },
    {
     "data": {
      "application/javascript": [
       "\n",
       "            setTimeout(function() {\n",
       "                var nbb_cell_id = 3;\n",
       "                var nbb_unformatted_code = \"# Read the input file\\ninput_path = \\\"./input_files/\\\"\\noutput_path = \\\"./output_files/\\\"\\n# file_name = \\\"a_example.txt\\\"\\n# file_name = \\\"b_read_on.txt\\\"\\nfile_name = \\\"c_incunabula.txt\\\"\\n# file_name = \\\"d_tough_choices.txt\\\"\\n# file_name = \\\"e_so_many_books.txt\\\"\\n# file_name = \\\"f_libraries_of_the_world.txt\\\"\\n\\nglobal n_days, scores\\nn_books, n_libs, n_days, scores, libs = read_input_file(input_path + file_name)\\n# print(scores)\\n# print(libs)\";\n",
       "                var nbb_formatted_code = \"# Read the input file\\ninput_path = \\\"./input_files/\\\"\\noutput_path = \\\"./output_files/\\\"\\n# file_name = \\\"a_example.txt\\\"\\n# file_name = \\\"b_read_on.txt\\\"\\nfile_name = \\\"c_incunabula.txt\\\"\\n# file_name = \\\"d_tough_choices.txt\\\"\\n# file_name = \\\"e_so_many_books.txt\\\"\\n# file_name = \\\"f_libraries_of_the_world.txt\\\"\\n\\nglobal n_days, scores\\nn_books, n_libs, n_days, scores, libs = read_input_file(input_path + file_name)\\n# print(scores)\\n# print(libs)\";\n",
       "                var nbb_cells = Jupyter.notebook.get_cells();\n",
       "                for (var i = 0; i < nbb_cells.length; ++i) {\n",
       "                    if (nbb_cells[i].input_prompt_number == nbb_cell_id) {\n",
       "                        if (nbb_cells[i].get_text() == nbb_unformatted_code) {\n",
       "                             nbb_cells[i].set_text(nbb_formatted_code);\n",
       "                        }\n",
       "                        break;\n",
       "                    }\n",
       "                }\n",
       "            }, 500);\n",
       "            "
      ],
      "text/plain": [
       "<IPython.core.display.Javascript object>"
      ]
     },
     "metadata": {},
     "output_type": "display_data"
    }
   ],
   "source": [
    "# Read the input file\n",
    "input_path = \"./input_files/\"\n",
    "output_path = \"./output_files/\"\n",
    "# file_name = \"a_example.txt\"\n",
    "# file_name = \"b_read_on.txt\"\n",
    "file_name = \"c_incunabula.txt\"\n",
    "# file_name = \"d_tough_choices.txt\"\n",
    "# file_name = \"e_so_many_books.txt\"\n",
    "# file_name = \"f_libraries_of_the_world.txt\"\n",
    "\n",
    "global n_days, scores\n",
    "n_books, n_libs, n_days, scores, libs = read_input_file(input_path + file_name)\n",
    "# print(scores)\n",
    "# print(libs)"
   ]
  },
  {
   "cell_type": "code",
   "execution_count": 4,
   "metadata": {},
   "outputs": [
    {
     "data": {
      "application/javascript": [
       "\n",
       "            setTimeout(function() {\n",
       "                var nbb_cell_id = 4;\n",
       "                var nbb_unformatted_code = \"def lib_quality_score(lib):\\n    max_sending_days = n_days - lib[1]\\n    no_of_books_in_the_lib = lib[0]\\n    max_send_per_day = lib[2]\\n    average_books_score = lib[5]\\n    return (max_sending_days, max_send_per_day)\\n\\n\\nsorted_libs = sorted(libs, reverse=True, key=lib_quality_score)\\n# print(sorted_libs)\";\n",
       "                var nbb_formatted_code = \"def lib_quality_score(lib):\\n    max_sending_days = n_days - lib[1]\\n    no_of_books_in_the_lib = lib[0]\\n    max_send_per_day = lib[2]\\n    average_books_score = lib[5]\\n    return (max_sending_days, max_send_per_day)\\n\\n\\nsorted_libs = sorted(libs, reverse=True, key=lib_quality_score)\\n# print(sorted_libs)\";\n",
       "                var nbb_cells = Jupyter.notebook.get_cells();\n",
       "                for (var i = 0; i < nbb_cells.length; ++i) {\n",
       "                    if (nbb_cells[i].input_prompt_number == nbb_cell_id) {\n",
       "                        if (nbb_cells[i].get_text() == nbb_unformatted_code) {\n",
       "                             nbb_cells[i].set_text(nbb_formatted_code);\n",
       "                        }\n",
       "                        break;\n",
       "                    }\n",
       "                }\n",
       "            }, 500);\n",
       "            "
      ],
      "text/plain": [
       "<IPython.core.display.Javascript object>"
      ]
     },
     "metadata": {},
     "output_type": "display_data"
    }
   ],
   "source": [
    "def lib_quality_score(lib):\n",
    "    max_sending_days = n_days - lib[1]\n",
    "    no_of_books_in_the_lib = lib[0]\n",
    "    max_send_per_day = lib[2]\n",
    "    average_books_score = lib[5]\n",
    "    return (max_sending_days, max_send_per_day)\n",
    "\n",
    "\n",
    "sorted_libs = sorted(libs, reverse=True, key=lib_quality_score)\n",
    "# print(sorted_libs)"
   ]
  },
  {
   "cell_type": "code",
   "execution_count": 5,
   "metadata": {},
   "outputs": [
    {
     "data": {
      "application/javascript": [
       "\n",
       "            setTimeout(function() {\n",
       "                var nbb_cell_id = 5;\n",
       "                var nbb_unformatted_code = \"def compute_points_we_would_get(current_day, lib, n_days):\\n    remaining_days = n_days - current_day\\n    scanning_days = remaining_days - lib[1]\\n    if scanning_days < 1:\\n        return 0\\n    max_nb_of_books_to_scan = lib[2] * scanning_days\\n    books_to_scan = lib[3][0:max_nb_of_books_to_scan]\\n    points = sum(lib[6][0:max_nb_of_books_to_scan])\\n    #     print(\\\"  library\\\", lib[4])\\n    #     print(\\\"\\\\tremaining days\\\", remaining_days)\\n    #     print(\\\"\\\\tscanning days\\\", scanning_days)\\n    #     print(\\\"\\\\tmax_nb_of_books_to_scan\\\", max_nb_of_books_to_scan)\\n    #     print(\\\"\\\\tbooks_to_scan\\\", books_to_scan)\\n    #     print(\\\"\\\\tpoints\\\", points)\\n    return points\";\n",
       "                var nbb_formatted_code = \"def compute_points_we_would_get(current_day, lib, n_days):\\n    remaining_days = n_days - current_day\\n    scanning_days = remaining_days - lib[1]\\n    if scanning_days < 1:\\n        return 0\\n    max_nb_of_books_to_scan = lib[2] * scanning_days\\n    books_to_scan = lib[3][0:max_nb_of_books_to_scan]\\n    points = sum(lib[6][0:max_nb_of_books_to_scan])\\n    #     print(\\\"  library\\\", lib[4])\\n    #     print(\\\"\\\\tremaining days\\\", remaining_days)\\n    #     print(\\\"\\\\tscanning days\\\", scanning_days)\\n    #     print(\\\"\\\\tmax_nb_of_books_to_scan\\\", max_nb_of_books_to_scan)\\n    #     print(\\\"\\\\tbooks_to_scan\\\", books_to_scan)\\n    #     print(\\\"\\\\tpoints\\\", points)\\n    return points\";\n",
       "                var nbb_cells = Jupyter.notebook.get_cells();\n",
       "                for (var i = 0; i < nbb_cells.length; ++i) {\n",
       "                    if (nbb_cells[i].input_prompt_number == nbb_cell_id) {\n",
       "                        if (nbb_cells[i].get_text() == nbb_unformatted_code) {\n",
       "                             nbb_cells[i].set_text(nbb_formatted_code);\n",
       "                        }\n",
       "                        break;\n",
       "                    }\n",
       "                }\n",
       "            }, 500);\n",
       "            "
      ],
      "text/plain": [
       "<IPython.core.display.Javascript object>"
      ]
     },
     "metadata": {},
     "output_type": "display_data"
    }
   ],
   "source": [
    "def compute_points_we_would_get(current_day, lib, n_days):\n",
    "    remaining_days = n_days - current_day\n",
    "    scanning_days = remaining_days - lib[1]\n",
    "    if scanning_days < 1:\n",
    "        return 0\n",
    "    max_nb_of_books_to_scan = lib[2] * scanning_days\n",
    "    books_to_scan = lib[3][0:max_nb_of_books_to_scan]\n",
    "    points = sum(lib[6][0:max_nb_of_books_to_scan])\n",
    "    #     print(\"  library\", lib[4])\n",
    "    #     print(\"\\tremaining days\", remaining_days)\n",
    "    #     print(\"\\tscanning days\", scanning_days)\n",
    "    #     print(\"\\tmax_nb_of_books_to_scan\", max_nb_of_books_to_scan)\n",
    "    #     print(\"\\tbooks_to_scan\", books_to_scan)\n",
    "    #     print(\"\\tpoints\", points)\n",
    "    return points"
   ]
  },
  {
   "cell_type": "code",
   "execution_count": 6,
   "metadata": {},
   "outputs": [
    {
     "name": "stdout",
     "output_type": "stream",
     "text": [
      "day 0\n",
      "day 583\n",
      "day 1098\n",
      "day 1970\n",
      "day 2217\n",
      "day 2299\n",
      "day 3227\n",
      "day 3309\n",
      "day 3725\n",
      "day 4476\n",
      "day 5135\n",
      "day 5220\n",
      "day 5431\n",
      "day 5493\n",
      "day 5960\n",
      "day 6862\n",
      "day 7185\n",
      "day 7269\n",
      "day 8258\n",
      "day 8906\n",
      "day 9434\n",
      "day 9671\n",
      "day 10130\n",
      "day 10981\n",
      "day 10992\n",
      "day 11396\n",
      "day 11802\n",
      "day 12049\n",
      "day 12852\n",
      "day 13022\n",
      "day 13682\n",
      "day 14349\n",
      "day 14903\n",
      "day 15405\n",
      "day 16139\n",
      "day 16300\n",
      "day 16757\n",
      "day 16810\n",
      "day 17692\n",
      "day 18681\n",
      "day 19443\n",
      "day 19755\n",
      "day 20580\n",
      "day 21543\n",
      "day 22068\n",
      "day 22093\n",
      "day 22325\n",
      "day 22937\n",
      "day 22962\n",
      "day 23052\n",
      "day 23342\n",
      "day 23830\n",
      "day 24811\n",
      "day 25709\n",
      "day 26100\n",
      "day 26602\n",
      "day 27244\n",
      "day 28125\n",
      "day 28364\n",
      "day 29360\n",
      "day 29370\n",
      "day 29814\n",
      "day 30451\n",
      "day 30489\n",
      "day 31058\n",
      "day 31878\n",
      "day 32103\n",
      "day 32621\n",
      "day 33326\n",
      "day 34305\n",
      "day 35092\n",
      "day 35826\n",
      "day 35973\n",
      "day 36409\n",
      "day 36710\n",
      "day 37118\n",
      "day 37967\n",
      "day 38878\n",
      "day 39403\n",
      "day 39915\n",
      "day 40378\n",
      "day 40608\n",
      "day 40628\n",
      "day 40731\n",
      "day 41415\n",
      "day 41672\n",
      "day 42001\n",
      "day 42922\n",
      "day 43009\n",
      "day 43354\n",
      "day 43661\n",
      "day 44506\n",
      "day 44650\n",
      "day 45080\n",
      "day 45884\n",
      "day 46118\n",
      "day 46848\n",
      "day 47847\n",
      "day 47907\n",
      "day 48350\n",
      "day 49250\n",
      "day 49462\n",
      "day 50315\n",
      "day 50573\n",
      "day 51067\n",
      "day 51166\n",
      "day 51563\n",
      "day 51909\n",
      "day 52120\n",
      "day 52612\n",
      "day 53467\n",
      "day 53543\n",
      "day 54244\n",
      "day 54992\n",
      "day 55376\n",
      "day 56203\n",
      "day 56658\n",
      "day 57333\n",
      "day 57412\n",
      "day 57922\n",
      "day 58795\n",
      "day 58864\n",
      "day 59106\n",
      "day 59133\n",
      "day 59339\n",
      "day 60108\n",
      "day 60850\n",
      "day 61681\n",
      "day 62303\n",
      "day 62442\n",
      "day 62869\n",
      "day 63737\n",
      "day 64055\n",
      "day 64872\n",
      "day 65517\n",
      "day 66177\n",
      "day 66717\n",
      "day 67238\n",
      "day 67644\n",
      "day 68172\n",
      "day 68216\n",
      "day 68898\n",
      "day 69218\n",
      "day 69313\n",
      "day 69791\n",
      "day 70453\n",
      "day 71386\n",
      "day 71736\n",
      "day 72227\n",
      "day 72348\n",
      "day 73161\n",
      "day 73707\n",
      "day 73916\n",
      "day 74495\n",
      "day 75318\n",
      "day 75385\n",
      "day 75516\n",
      "day 76506\n",
      "day 77133\n",
      "day 77768\n",
      "day 78173\n",
      "day 78248\n",
      "day 78876\n",
      "day 79069\n",
      "day 79080\n",
      "day 79428\n",
      "day 79481\n",
      "day 79667\n",
      "day 80077\n",
      "day 80971\n",
      "day 81948\n",
      "day 82122\n",
      "day 83105\n",
      "day 83566\n",
      "day 83930\n",
      "day 84719\n",
      "day 85238\n",
      "day 85638\n",
      "day 86568\n",
      "day 86724\n",
      "day 87557\n",
      "day 87975\n",
      "day 88629\n",
      "day 89278\n",
      "day 89795\n",
      "day 90779\n",
      "day 91129\n",
      "day 91247\n",
      "day 91428\n",
      "day 92403\n",
      "day 93041\n",
      "day 93865\n",
      "day 93899\n",
      "day 94117\n",
      "day 94253\n",
      "day 94752\n",
      "day 95378\n",
      "day 95862\n",
      "day 96634\n",
      "day 97151\n",
      "day 98054\n",
      "day 98160\n",
      "day 98651\n",
      "day 98661\n",
      "day 99229\n",
      "day 99482\n",
      "day 99968\n",
      "day 99991\n"
     ]
    },
    {
     "data": {
      "application/javascript": [
       "\n",
       "            setTimeout(function() {\n",
       "                var nbb_cell_id = 6;\n",
       "                var nbb_unformatted_code = \"added_libs = []\\nadded_books = set([])\\nsolution = [-1]\\nscore = 0\\nlib_to_add = -1\\nd = 0\\nwhile d <= n_days:\\n    print(\\\"day\\\", d)\\n    max_points = 0\\n    lib_to_add = []\\n    for l in sorted_libs:\\n        if l[4] not in added_libs:\\n            l[3] = list(set(l[3]).difference(added_books))\\n            l[6] = list(np.array(scores)[l[3]])\\n            #             print(\\\"  current lib\\\", l)\\n            points = compute_points_we_would_get(d, l, n_days)\\n            if points > max_points:\\n                lib_to_add = l\\n                #                 print(\\\"LIB TO ADD\\\", lib_to_add)\\n                max_points = points\\n    # Add best lib\\n\\n    if len(lib_to_add) > 0:\\n        d += lib_to_add[1]\\n        added_libs.append(lib_to_add[4])\\n        added_books = added_books.union(set(lib_to_add[3]))\\n        solution.append([lib_to_add[4], len(lib_to_add[3])])\\n        solution.append(lib_to_add[3])\\n        score += max_points\\n    else:\\n        break\\n#     print(solution)\\nsolution[0] = len(added_libs)\\n# print(solution)\";\n",
       "                var nbb_formatted_code = \"added_libs = []\\nadded_books = set([])\\nsolution = [-1]\\nscore = 0\\nlib_to_add = -1\\nd = 0\\nwhile d <= n_days:\\n    print(\\\"day\\\", d)\\n    max_points = 0\\n    lib_to_add = []\\n    for l in sorted_libs:\\n        if l[4] not in added_libs:\\n            l[3] = list(set(l[3]).difference(added_books))\\n            l[6] = list(np.array(scores)[l[3]])\\n            #             print(\\\"  current lib\\\", l)\\n            points = compute_points_we_would_get(d, l, n_days)\\n            if points > max_points:\\n                lib_to_add = l\\n                #                 print(\\\"LIB TO ADD\\\", lib_to_add)\\n                max_points = points\\n    # Add best lib\\n\\n    if len(lib_to_add) > 0:\\n        d += lib_to_add[1]\\n        added_libs.append(lib_to_add[4])\\n        added_books = added_books.union(set(lib_to_add[3]))\\n        solution.append([lib_to_add[4], len(lib_to_add[3])])\\n        solution.append(lib_to_add[3])\\n        score += max_points\\n    else:\\n        break\\n#     print(solution)\\nsolution[0] = len(added_libs)\\n# print(solution)\";\n",
       "                var nbb_cells = Jupyter.notebook.get_cells();\n",
       "                for (var i = 0; i < nbb_cells.length; ++i) {\n",
       "                    if (nbb_cells[i].input_prompt_number == nbb_cell_id) {\n",
       "                        if (nbb_cells[i].get_text() == nbb_unformatted_code) {\n",
       "                             nbb_cells[i].set_text(nbb_formatted_code);\n",
       "                        }\n",
       "                        break;\n",
       "                    }\n",
       "                }\n",
       "            }, 500);\n",
       "            "
      ],
      "text/plain": [
       "<IPython.core.display.Javascript object>"
      ]
     },
     "metadata": {},
     "output_type": "display_data"
    }
   ],
   "source": [
    "added_libs = []\n",
    "added_books = set([])\n",
    "solution = [-1]\n",
    "score = 0\n",
    "lib_to_add = -1\n",
    "d = 0\n",
    "while d <= n_days:\n",
    "    print(\"day\", d)\n",
    "    max_points = 0\n",
    "    lib_to_add = []\n",
    "    for l in sorted_libs:\n",
    "        if l[4] not in added_libs:\n",
    "            l[3] = list(set(l[3]).difference(added_books))\n",
    "            l[6] = list(np.array(scores)[l[3]])\n",
    "            #             print(\"  current lib\", l)\n",
    "            points = compute_points_we_would_get(d, l, n_days)\n",
    "            if points > max_points:\n",
    "                lib_to_add = l\n",
    "                #                 print(\"LIB TO ADD\", lib_to_add)\n",
    "                max_points = points\n",
    "    # Add best lib\n",
    "\n",
    "    if len(lib_to_add) > 0:\n",
    "        d += lib_to_add[1]\n",
    "        added_libs.append(lib_to_add[4])\n",
    "        added_books = added_books.union(set(lib_to_add[3]))\n",
    "        solution.append([lib_to_add[4], len(lib_to_add[3])])\n",
    "        solution.append(lib_to_add[3])\n",
    "        score += max_points\n",
    "    else:\n",
    "        break\n",
    "#     print(solution)\n",
    "solution[0] = len(added_libs)\n",
    "# print(solution)"
   ]
  },
  {
   "cell_type": "code",
   "execution_count": 7,
   "metadata": {},
   "outputs": [
    {
     "data": {
      "application/javascript": [
       "\n",
       "            setTimeout(function() {\n",
       "                var nbb_cell_id = 7;\n",
       "                var nbb_unformatted_code = \"def generate_output(solution):\\n    output_str = str(solution[0]) + \\\"\\\\n\\\"\\n    for line in solution[1:]:\\n        for element in line:\\n            output_str += str(element) + \\\" \\\"\\n        output_str += \\\"\\\\n\\\"\\n    return output_str[:-1]\";\n",
       "                var nbb_formatted_code = \"def generate_output(solution):\\n    output_str = str(solution[0]) + \\\"\\\\n\\\"\\n    for line in solution[1:]:\\n        for element in line:\\n            output_str += str(element) + \\\" \\\"\\n        output_str += \\\"\\\\n\\\"\\n    return output_str[:-1]\";\n",
       "                var nbb_cells = Jupyter.notebook.get_cells();\n",
       "                for (var i = 0; i < nbb_cells.length; ++i) {\n",
       "                    if (nbb_cells[i].input_prompt_number == nbb_cell_id) {\n",
       "                        if (nbb_cells[i].get_text() == nbb_unformatted_code) {\n",
       "                             nbb_cells[i].set_text(nbb_formatted_code);\n",
       "                        }\n",
       "                        break;\n",
       "                    }\n",
       "                }\n",
       "            }, 500);\n",
       "            "
      ],
      "text/plain": [
       "<IPython.core.display.Javascript object>"
      ]
     },
     "metadata": {},
     "output_type": "display_data"
    }
   ],
   "source": [
    "def generate_output(solution):\n",
    "    output_str = str(solution[0]) + \"\\n\"\n",
    "    for line in solution[1:]:\n",
    "        for element in line:\n",
    "            output_str += str(element) + \" \"\n",
    "        output_str += \"\\n\"\n",
    "    return output_str[:-1]"
   ]
  },
  {
   "cell_type": "code",
   "execution_count": 11,
   "metadata": {},
   "outputs": [
    {
     "name": "stdout",
     "output_type": "stream",
     "text": [
      "file: ./output_files/_bf_c_incunabula.txt was saved\n"
     ]
    },
    {
     "data": {
      "application/javascript": [
       "\n",
       "            setTimeout(function() {\n",
       "                var nbb_cell_id = 11;\n",
       "                var nbb_unformatted_code = \"sln_str = generate_output(solution)\\noutput_file = output_path + \\\"_bf_\\\" + file_name\\nwrite_file(output_file, sln_str)\";\n",
       "                var nbb_formatted_code = \"sln_str = generate_output(solution)\\noutput_file = output_path + \\\"_bf_\\\" + file_name\\nwrite_file(output_file, sln_str)\";\n",
       "                var nbb_cells = Jupyter.notebook.get_cells();\n",
       "                for (var i = 0; i < nbb_cells.length; ++i) {\n",
       "                    if (nbb_cells[i].input_prompt_number == nbb_cell_id) {\n",
       "                        if (nbb_cells[i].get_text() == nbb_unformatted_code) {\n",
       "                             nbb_cells[i].set_text(nbb_formatted_code);\n",
       "                        }\n",
       "                        break;\n",
       "                    }\n",
       "                }\n",
       "            }, 500);\n",
       "            "
      ],
      "text/plain": [
       "<IPython.core.display.Javascript object>"
      ]
     },
     "metadata": {},
     "output_type": "display_data"
    }
   ],
   "source": [
    "sln_str = generate_output(solution)\n",
    "output_file = output_path + \"_bf_\" + file_name\n",
    "write_file(output_file, sln_str)"
   ]
  },
  {
   "cell_type": "code",
   "execution_count": 10,
   "metadata": {},
   "outputs": [
    {
     "data": {
      "text/plain": [
       "1480105"
      ]
     },
     "execution_count": 10,
     "metadata": {},
     "output_type": "execute_result"
    },
    {
     "data": {
      "application/javascript": [
       "\n",
       "            setTimeout(function() {\n",
       "                var nbb_cell_id = 10;\n",
       "                var nbb_unformatted_code = \"score\";\n",
       "                var nbb_formatted_code = \"score\";\n",
       "                var nbb_cells = Jupyter.notebook.get_cells();\n",
       "                for (var i = 0; i < nbb_cells.length; ++i) {\n",
       "                    if (nbb_cells[i].input_prompt_number == nbb_cell_id) {\n",
       "                        if (nbb_cells[i].get_text() == nbb_unformatted_code) {\n",
       "                             nbb_cells[i].set_text(nbb_formatted_code);\n",
       "                        }\n",
       "                        break;\n",
       "                    }\n",
       "                }\n",
       "            }, 500);\n",
       "            "
      ],
      "text/plain": [
       "<IPython.core.display.Javascript object>"
      ]
     },
     "metadata": {},
     "output_type": "display_data"
    }
   ],
   "source": [
    "score"
   ]
  },
  {
   "cell_type": "code",
   "execution_count": null,
   "metadata": {},
   "outputs": [],
   "source": []
  }
 ],
 "metadata": {
  "kernelspec": {
   "display_name": "Python 3",
   "language": "python",
   "name": "python3"
  },
  "language_info": {
   "codemirror_mode": {
    "name": "ipython",
    "version": 3
   },
   "file_extension": ".py",
   "mimetype": "text/x-python",
   "name": "python",
   "nbconvert_exporter": "python",
   "pygments_lexer": "ipython3",
   "version": "3.7.4"
  }
 },
 "nbformat": 4,
 "nbformat_minor": 2
}
