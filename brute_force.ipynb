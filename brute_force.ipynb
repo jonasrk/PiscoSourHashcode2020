{
 "cells": [
  {
   "cell_type": "code",
   "execution_count": 19,
   "metadata": {},
   "outputs": [
    {
     "name": "stdout",
     "output_type": "stream",
     "text": [
      "The nb_black extension is already loaded. To reload it, use:\n",
      "  %reload_ext nb_black\n"
     ]
    },
    {
     "data": {
      "application/javascript": [
       "\n",
       "            setTimeout(function() {\n",
       "                var nbb_cell_id = 19;\n",
       "                var nbb_unformatted_code = \"# from read_and_write_functions import *\\nimport numpy as np\\n\\n%load_ext nb_black\";\n",
       "                var nbb_formatted_code = \"# from read_and_write_functions import *\\nimport numpy as np\\n\\n%load_ext nb_black\";\n",
       "                var nbb_cells = Jupyter.notebook.get_cells();\n",
       "                for (var i = 0; i < nbb_cells.length; ++i) {\n",
       "                    if (nbb_cells[i].input_prompt_number == nbb_cell_id) {\n",
       "                        if (nbb_cells[i].get_text() == nbb_unformatted_code) {\n",
       "                             nbb_cells[i].set_text(nbb_formatted_code);\n",
       "                        }\n",
       "                        break;\n",
       "                    }\n",
       "                }\n",
       "            }, 500);\n",
       "            "
      ],
      "text/plain": [
       "<IPython.core.display.Javascript object>"
      ]
     },
     "metadata": {},
     "output_type": "display_data"
    }
   ],
   "source": [
    "# from read_and_write_functions import *\n",
    "import numpy as np\n",
    "from tqdm import tqdm\n",
    "\n",
    "%load_ext nb_black"
   ]
  },
  {
   "cell_type": "code",
   "execution_count": 20,
   "metadata": {},
   "outputs": [
    {
     "data": {
      "application/javascript": [
       "\n",
       "            setTimeout(function() {\n",
       "                var nbb_cell_id = 20;\n",
       "                var nbb_unformatted_code = \"def read_input_file(file_name):\\n    print(file_name)\\n    with open(file_name, \\\"r\\\") as fin:\\n        line = fin.readline()\\n        n_books, n_libs, n_days = [int(num) for num in line.split()]\\n        line = fin.readline()\\n        scores = [int(num) for num in line.split()]\\n        libs = []\\n        for i in range(n_libs):\\n            line = fin.readline()\\n            li_nbooks, lui_signup, li_max = [int(num) for num in line.split()]\\n            line = fin.readline()\\n            li_books = [int(num) for num in line.split()]\\n            def bookscore(bi):\\n                return scores[bi]\\n            li_books = sorted(li_books, reverse=True, key=bookscore)\\n            li_scores_of_books = []\\n            li_bookscore = 0\\n            for bi in li_books:\\n                li_bookscore += scores[bi]\\n                li_scores_of_books.append(scores[bi])\\n            li_bookscore = li_bookscore / li_nbooks\\n            \\n            libs.append([li_nbooks, lui_signup, li_max, li_books, i, li_bookscore, li_scores_of_books])\\n    return n_books, n_libs, n_days, scores, libs\\n\\ndef write_file(output_file, sln):\\n    with open(output_file, \\\"w\\\") as fout:\\n        fout.write(sln)\\n    print(\\\"file: \\\" + output_file + \\\" was saved\\\")\";\n",
       "                var nbb_formatted_code = \"def read_input_file(file_name):\\n    print(file_name)\\n    with open(file_name, \\\"r\\\") as fin:\\n        line = fin.readline()\\n        n_books, n_libs, n_days = [int(num) for num in line.split()]\\n        line = fin.readline()\\n        scores = [int(num) for num in line.split()]\\n        libs = []\\n        for i in range(n_libs):\\n            line = fin.readline()\\n            li_nbooks, lui_signup, li_max = [int(num) for num in line.split()]\\n            line = fin.readline()\\n            li_books = [int(num) for num in line.split()]\\n\\n            def bookscore(bi):\\n                return scores[bi]\\n\\n            li_books = sorted(li_books, reverse=True, key=bookscore)\\n            li_scores_of_books = []\\n            li_bookscore = 0\\n            for bi in li_books:\\n                li_bookscore += scores[bi]\\n                li_scores_of_books.append(scores[bi])\\n            li_bookscore = li_bookscore / li_nbooks\\n\\n            libs.append(\\n                [\\n                    li_nbooks,\\n                    lui_signup,\\n                    li_max,\\n                    li_books,\\n                    i,\\n                    li_bookscore,\\n                    li_scores_of_books,\\n                ]\\n            )\\n    return n_books, n_libs, n_days, scores, libs\\n\\n\\ndef write_file(output_file, sln):\\n    with open(output_file, \\\"w\\\") as fout:\\n        fout.write(sln)\\n    print(\\\"file: \\\" + output_file + \\\" was saved\\\")\";\n",
       "                var nbb_cells = Jupyter.notebook.get_cells();\n",
       "                for (var i = 0; i < nbb_cells.length; ++i) {\n",
       "                    if (nbb_cells[i].input_prompt_number == nbb_cell_id) {\n",
       "                        if (nbb_cells[i].get_text() == nbb_unformatted_code) {\n",
       "                             nbb_cells[i].set_text(nbb_formatted_code);\n",
       "                        }\n",
       "                        break;\n",
       "                    }\n",
       "                }\n",
       "            }, 500);\n",
       "            "
      ],
      "text/plain": [
       "<IPython.core.display.Javascript object>"
      ]
     },
     "metadata": {},
     "output_type": "display_data"
    }
   ],
   "source": [
    "def read_input_file(file_name):\n",
    "    print(file_name)\n",
    "    with open(file_name, \"r\") as fin:\n",
    "        line = fin.readline()\n",
    "        n_books, n_libs, n_days = [int(num) for num in line.split()]\n",
    "        line = fin.readline()\n",
    "        scores = [int(num) for num in line.split()]\n",
    "        libs = []\n",
    "        for i in range(n_libs):\n",
    "            line = fin.readline()\n",
    "            li_nbooks, lui_signup, li_max = [int(num) for num in line.split()]\n",
    "            line = fin.readline()\n",
    "            li_books = [int(num) for num in line.split()]\n",
    "            def bookscore(bi):\n",
    "                return scores[bi]\n",
    "            li_books = sorted(li_books, reverse=True, key=bookscore)\n",
    "            li_scores_of_books = []\n",
    "            li_bookscore = 0\n",
    "            for bi in li_books:\n",
    "                li_bookscore += scores[bi]\n",
    "                li_scores_of_books.append(scores[bi])\n",
    "            li_bookscore = li_bookscore / li_nbooks\n",
    "            \n",
    "            libs.append([li_nbooks, lui_signup, li_max, li_books, i, li_bookscore, li_scores_of_books])\n",
    "    return n_books, n_libs, n_days, scores, libs\n",
    "\n",
    "def write_file(output_file, sln):\n",
    "    with open(output_file, \"w\") as fout:\n",
    "        fout.write(sln)\n",
    "    print(\"file: \" + output_file + \" was saved\")\n"
   ]
  },
  {
   "cell_type": "code",
   "execution_count": 24,
   "metadata": {},
   "outputs": [
    {
     "name": "stdout",
     "output_type": "stream",
     "text": [
      "./input_files/c_incunabula.txt\n"
     ]
    },
    {
     "data": {
      "application/javascript": [
       "\n",
       "            setTimeout(function() {\n",
       "                var nbb_cell_id = 24;\n",
       "                var nbb_unformatted_code = \"# Read the input file\\ninput_path = \\\"./input_files/\\\"\\noutput_path = \\\"./output_files/\\\"\\nfile_name = \\\"a_example.txt\\\"\\nfile_name = \\\"b_read_on.txt\\\"\\nfile_name = \\\"c_incunabula.txt\\\"\\n# file_name = \\\"d_tough_choices.txt\\\"\\n# file_name = \\\"e_so_many_books.txt\\\"\\n# file_name = \\\"f_libraries_of_the_world.txt\\\"\\n\\nglobal n_days, scores\\nn_books, n_libs, n_days, scores, libs = read_input_file(input_path + file_name)\\n# print(scores)\\n# print(libs)\";\n",
       "                var nbb_formatted_code = \"# Read the input file\\ninput_path = \\\"./input_files/\\\"\\noutput_path = \\\"./output_files/\\\"\\nfile_name = \\\"a_example.txt\\\"\\nfile_name = \\\"b_read_on.txt\\\"\\nfile_name = \\\"c_incunabula.txt\\\"\\n# file_name = \\\"d_tough_choices.txt\\\"\\n# file_name = \\\"e_so_many_books.txt\\\"\\n# file_name = \\\"f_libraries_of_the_world.txt\\\"\\n\\nglobal n_days, scores\\nn_books, n_libs, n_days, scores, libs = read_input_file(input_path + file_name)\\n# print(scores)\\n# print(libs)\";\n",
       "                var nbb_cells = Jupyter.notebook.get_cells();\n",
       "                for (var i = 0; i < nbb_cells.length; ++i) {\n",
       "                    if (nbb_cells[i].input_prompt_number == nbb_cell_id) {\n",
       "                        if (nbb_cells[i].get_text() == nbb_unformatted_code) {\n",
       "                             nbb_cells[i].set_text(nbb_formatted_code);\n",
       "                        }\n",
       "                        break;\n",
       "                    }\n",
       "                }\n",
       "            }, 500);\n",
       "            "
      ],
      "text/plain": [
       "<IPython.core.display.Javascript object>"
      ]
     },
     "metadata": {},
     "output_type": "display_data"
    }
   ],
   "source": [
    "# Read the input file\n",
    "input_path = \"./input_files/\"\n",
    "output_path = \"./output_files/\"\n",
    "file_name = \"a_example.txt\"\n",
    "file_name = \"b_read_on.txt\"\n",
    "file_name = \"c_incunabula.txt\"\n",
    "# file_name = \"d_tough_choices.txt\"\n",
    "# file_name = \"e_so_many_books.txt\"\n",
    "# file_name = \"f_libraries_of_the_world.txt\"\n",
    "\n",
    "global n_days, scores\n",
    "n_books, n_libs, n_days, scores, libs = read_input_file(input_path + file_name)\n",
    "# print(scores)\n",
    "# print(libs)"
   ]
  },
  {
   "cell_type": "code",
   "execution_count": 25,
   "metadata": {},
   "outputs": [
    {
     "data": {
      "application/javascript": [
       "\n",
       "            setTimeout(function() {\n",
       "                var nbb_cell_id = 25;\n",
       "                var nbb_unformatted_code = \"def lib_quality_score(lib):\\n    max_sending_days = n_days - lib[1]\\n    no_of_books_in_the_lib = lib[0]\\n    max_send_per_day = lib[2]\\n    average_books_score = lib[5]\\n    return (max_sending_days, max_send_per_day)\\n\\n\\nsorted_libs = sorted(libs, reverse=True, key=lib_quality_score)\\n# print(sorted_libs)\";\n",
       "                var nbb_formatted_code = \"def lib_quality_score(lib):\\n    max_sending_days = n_days - lib[1]\\n    no_of_books_in_the_lib = lib[0]\\n    max_send_per_day = lib[2]\\n    average_books_score = lib[5]\\n    return (max_sending_days, max_send_per_day)\\n\\n\\nsorted_libs = sorted(libs, reverse=True, key=lib_quality_score)\\n# print(sorted_libs)\";\n",
       "                var nbb_cells = Jupyter.notebook.get_cells();\n",
       "                for (var i = 0; i < nbb_cells.length; ++i) {\n",
       "                    if (nbb_cells[i].input_prompt_number == nbb_cell_id) {\n",
       "                        if (nbb_cells[i].get_text() == nbb_unformatted_code) {\n",
       "                             nbb_cells[i].set_text(nbb_formatted_code);\n",
       "                        }\n",
       "                        break;\n",
       "                    }\n",
       "                }\n",
       "            }, 500);\n",
       "            "
      ],
      "text/plain": [
       "<IPython.core.display.Javascript object>"
      ]
     },
     "metadata": {},
     "output_type": "display_data"
    }
   ],
   "source": [
    "def lib_quality_score(lib):\n",
    "    max_sending_days = n_days - lib[1]\n",
    "    no_of_books_in_the_lib = lib[0]\n",
    "    max_send_per_day = lib[2]\n",
    "    average_books_score = lib[5]\n",
    "    return (max_sending_days, max_send_per_day)\n",
    "\n",
    "\n",
    "sorted_libs = sorted(libs, reverse=True, key=lib_quality_score)\n",
    "# print(sorted_libs)"
   ]
  },
  {
   "cell_type": "code",
   "execution_count": 26,
   "metadata": {},
   "outputs": [
    {
     "data": {
      "application/javascript": [
       "\n",
       "            setTimeout(function() {\n",
       "                var nbb_cell_id = 26;\n",
       "                var nbb_unformatted_code = \"def compute_points_we_would_get(current_day, lib, n_days):\\n    remaining_days = n_days - current_day\\n    scanning_days = remaining_days - lib[1]\\n    if scanning_days < 1:\\n        return 0\\n    max_nb_of_books_to_scan = lib[2] * scanning_days\\n    books_to_scan = lib[3][0:max_nb_of_books_to_scan]\\n    points = sum(lib[6][0:max_nb_of_books_to_scan])\\n    #     print(\\\"  library\\\", lib[4])\\n    #     print(\\\"\\\\tremaining days\\\", remaining_days)\\n    #     print(\\\"\\\\tscanning days\\\", scanning_days)\\n    #     print(\\\"\\\\tmax_nb_of_books_to_scan\\\", max_nb_of_books_to_scan)\\n    #     print(\\\"\\\\tbooks_to_scan\\\", books_to_scan)\\n    #     print(\\\"\\\\tpoints\\\", points)\\n    return points\";\n",
       "                var nbb_formatted_code = \"def compute_points_we_would_get(current_day, lib, n_days):\\n    remaining_days = n_days - current_day\\n    scanning_days = remaining_days - lib[1]\\n    if scanning_days < 1:\\n        return 0\\n    max_nb_of_books_to_scan = lib[2] * scanning_days\\n    books_to_scan = lib[3][0:max_nb_of_books_to_scan]\\n    points = sum(lib[6][0:max_nb_of_books_to_scan])\\n    #     print(\\\"  library\\\", lib[4])\\n    #     print(\\\"\\\\tremaining days\\\", remaining_days)\\n    #     print(\\\"\\\\tscanning days\\\", scanning_days)\\n    #     print(\\\"\\\\tmax_nb_of_books_to_scan\\\", max_nb_of_books_to_scan)\\n    #     print(\\\"\\\\tbooks_to_scan\\\", books_to_scan)\\n    #     print(\\\"\\\\tpoints\\\", points)\\n    return points\";\n",
       "                var nbb_cells = Jupyter.notebook.get_cells();\n",
       "                for (var i = 0; i < nbb_cells.length; ++i) {\n",
       "                    if (nbb_cells[i].input_prompt_number == nbb_cell_id) {\n",
       "                        if (nbb_cells[i].get_text() == nbb_unformatted_code) {\n",
       "                             nbb_cells[i].set_text(nbb_formatted_code);\n",
       "                        }\n",
       "                        break;\n",
       "                    }\n",
       "                }\n",
       "            }, 500);\n",
       "            "
      ],
      "text/plain": [
       "<IPython.core.display.Javascript object>"
      ]
     },
     "metadata": {},
     "output_type": "display_data"
    }
   ],
   "source": [
    "def compute_points_we_would_get(current_day, lib, n_days):\n",
    "    remaining_days = n_days - current_day\n",
    "    scanning_days = remaining_days - lib[1]\n",
    "    if scanning_days < 1:\n",
    "        return 0\n",
    "    max_nb_of_books_to_scan = lib[2] * scanning_days\n",
    "    books_to_scan = lib[3][0:max_nb_of_books_to_scan]\n",
    "    points = sum(lib[6][0:max_nb_of_books_to_scan])\n",
    "    #     print(\"  library\", lib[4])\n",
    "    #     print(\"\\tremaining days\", remaining_days)\n",
    "    #     print(\"\\tscanning days\", scanning_days)\n",
    "    #     print(\"\\tmax_nb_of_books_to_scan\", max_nb_of_books_to_scan)\n",
    "    #     print(\"\\tbooks_to_scan\", books_to_scan)\n",
    "    #     print(\"\\tpoints\", points)\n",
    "    return points"
   ]
  },
  {
   "cell_type": "code",
   "execution_count": null,
   "metadata": {},
   "outputs": [],
   "source": [
    "added_libs = []\n",
    "added_books = set([])\n",
    "solution = [-1]\n",
    "score = 0\n",
    "lib_to_add = -1\n",
    "for d in tqdm(range(n_days)):\n",
    "    #     print(\"=\" * 10)\n",
    "    #     print(\"day\", d)\n",
    "    max_points = 0\n",
    "    lib_to_add = []\n",
    "    for l in sorted_libs:\n",
    "        if l[4] not in added_libs:\n",
    "            l[3] = list(set(l[3]).difference(added_books))\n",
    "            l[6] = list(np.array(scores)[l[3]])\n",
    "            #             print(\"  current lib\", l)\n",
    "            points = compute_points_we_would_get(d, l, n_days)\n",
    "            if points > max_points:\n",
    "                lib_to_add = l\n",
    "                #                 print(\"LIB TO ADD\", lib_to_add)\n",
    "                max_points = points\n",
    "    # Add best lib\n",
    "    if len(lib_to_add) > 0:\n",
    "        added_libs.append(lib_to_add[4])\n",
    "        added_books = added_books.union(set(lib_to_add[3]))\n",
    "        solution.append([lib_to_add[4], len(lib_to_add[3])])\n",
    "        solution.append(lib_to_add[3])\n",
    "        score += max_points\n",
    "#     print(solution)\n",
    "solution[0] = len(added_libs)\n",
    "# print(solution)"
   ]
  },
  {
   "cell_type": "code",
   "execution_count": null,
   "metadata": {},
   "outputs": [],
   "source": [
    "def generate_output(solution):\n",
    "    output_str = str(solution[0]) + \"\\n\"\n",
    "    for line in solution[1:]:\n",
    "        for element in line:\n",
    "            output_str += str(element) + \" \"\n",
    "        output_str += \"\\n\"\n",
    "    return output_str[:-1]"
   ]
  },
  {
   "cell_type": "code",
   "execution_count": null,
   "metadata": {},
   "outputs": [],
   "source": [
    "sln_str = generate_output(solution)\n",
    "output_file = output_path + \"_bf_\" + file_name\n",
    "write_file(output_file, sln_str)"
   ]
  },
  {
   "cell_type": "code",
   "execution_count": null,
   "metadata": {},
   "outputs": [],
   "source": []
  }
 ],
 "metadata": {
  "kernelspec": {
   "display_name": "Python 3",
   "language": "python",
   "name": "python3"
  },
  "language_info": {
   "codemirror_mode": {
    "name": "ipython",
    "version": 3
   },
   "file_extension": ".py",
   "mimetype": "text/x-python",
   "name": "python",
   "nbconvert_exporter": "python",
   "pygments_lexer": "ipython3",
   "version": "3.7.3"
  }
 },
 "nbformat": 4,
 "nbformat_minor": 2
}
